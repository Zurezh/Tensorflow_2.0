{
  "nbformat": 4,
  "nbformat_minor": 0,
  "metadata": {
    "colab": {
      "name": "DefectPredictionAlgoTest.ipynb",
      "provenance": [],
      "authorship_tag": "ABX9TyNigGv5ffm6Gt1xP0WcX6tN",
      "include_colab_link": true
    },
    "kernelspec": {
      "name": "python3",
      "display_name": "Python 3"
    }
  },
  "cells": [
    {
      "cell_type": "markdown",
      "metadata": {
        "id": "view-in-github",
        "colab_type": "text"
      },
      "source": [
        "<a href=\"https://colab.research.google.com/github/sureshmanem/Tensorflow_2.0/blob/master/DefectPredictionAlgoTest.ipynb\" target=\"_parent\"><img src=\"https://colab.research.google.com/assets/colab-badge.svg\" alt=\"Open In Colab\"/></a>"
      ]
    },
    {
      "cell_type": "code",
      "metadata": {
        "id": "74-AlVtuR_wN",
        "colab_type": "code",
        "colab": {
          "base_uri": "https://localhost:8080/",
          "height": 71
        },
        "outputId": "6006aafc-e835-40b0-b917-42399ed64279"
      },
      "source": [
        "import numpy as np\n",
        "import pandas as pd\n",
        "import seaborn as sns\n",
        "import tensorflow as tf\n",
        "import tensorflow.keras as keras\n",
        "from tensorflow.keras.layers import Dense, Bidirectional,LSTM, Lambda, Conv1D\n",
        "import datetime\n",
        "import matplotlib.pyplot as plt\n",
        "import warnings\n",
        "warnings.filterwarnings('ignore')"
      ],
      "execution_count": 1,
      "outputs": [
        {
          "output_type": "stream",
          "text": [
            "/usr/local/lib/python3.6/dist-packages/statsmodels/tools/_testing.py:19: FutureWarning: pandas.util.testing is deprecated. Use the functions in the public API at pandas.testing instead.\n",
            "  import pandas.util.testing as tm\n"
          ],
          "name": "stderr"
        }
      ]
    },
    {
      "cell_type": "code",
      "metadata": {
        "id": "yC_UQMYzSpmH",
        "colab_type": "code",
        "colab": {}
      },
      "source": [
        "dfCase = pd.read_excel(r'https://github.com/sureshmanem/Tensorflow_2.0/blob/master/Case_cvs.xlsx?raw=true')"
      ],
      "execution_count": 2,
      "outputs": []
    },
    {
      "cell_type": "code",
      "metadata": {
        "id": "m0B590OdTfxx",
        "colab_type": "code",
        "colab": {
          "base_uri": "https://localhost:8080/",
          "height": 889
        },
        "outputId": "ef2c5213-8b80-4e96-968c-5087c6949247"
      },
      "source": [
        "dfCase.head(10)"
      ],
      "execution_count": 3,
      "outputs": [
        {
          "output_type": "execute_result",
          "data": {
            "text/html": [
              "<div>\n",
              "<style scoped>\n",
              "    .dataframe tbody tr th:only-of-type {\n",
              "        vertical-align: middle;\n",
              "    }\n",
              "\n",
              "    .dataframe tbody tr th {\n",
              "        vertical-align: top;\n",
              "    }\n",
              "\n",
              "    .dataframe thead th {\n",
              "        text-align: right;\n",
              "    }\n",
              "</style>\n",
              "<table border=\"1\" class=\"dataframe\">\n",
              "  <thead>\n",
              "    <tr style=\"text-align: right;\">\n",
              "      <th></th>\n",
              "      <th>Case: Case Number</th>\n",
              "      <th>Case: Case Status</th>\n",
              "      <th>Benefit Test Type</th>\n",
              "      <th>Benefit Test Count</th>\n",
              "      <th>Case: Client Commitment Date</th>\n",
              "      <th>Effective Date</th>\n",
              "      <th>Case: Date/Time Opened</th>\n",
              "      <th>Case: Submitted Date</th>\n",
              "      <th>Case: Subject</th>\n",
              "      <th>WA Owner Manager</th>\n",
              "      <th>Work Assignment: Owner Name</th>\n",
              "      <th>Case: Market Segment</th>\n",
              "      <th>Business Area</th>\n",
              "      <th>Case: Level of Difficulty</th>\n",
              "      <th>Case: Age (In Days) Calendar</th>\n",
              "      <th>Client Name</th>\n",
              "      <th>Case: Super Client</th>\n",
              "      <th>Work Assignment: Workflow Assignment Name</th>\n",
              "      <th>Case: Description</th>\n",
              "      <th>Case: # of Plans Affected</th>\n",
              "      <th>Case: Request Type</th>\n",
              "      <th>Case: Related to a Project</th>\n",
              "      <th>Work Assignment: Record Type</th>\n",
              "      <th>Priority</th>\n",
              "      <th>Work Assignment: Created By</th>\n",
              "      <th>Platform ID</th>\n",
              "      <th>Actual Hours of Effort</th>\n",
              "      <th>Work Assignment: Created Date</th>\n",
              "      <th>Work Assignment: Last Modified Date</th>\n",
              "      <th>Case: Case Date/Time Last Modified</th>\n",
              "      <th>Target Completion Date</th>\n",
              "      <th>Case: Testing Target Completion Date</th>\n",
              "      <th>Case: Met Coding TCD</th>\n",
              "      <th>Case: Met Testing TCD</th>\n",
              "      <th>Case: Met Client Commitment Date</th>\n",
              "      <th>Case: Date/Time Closed</th>\n",
              "      <th>Case: In Production Date</th>\n",
              "      <th>Actual End Date</th>\n",
              "      <th>Status</th>\n",
              "      <th>Case: Classification</th>\n",
              "      <th>Case: Source Type</th>\n",
              "      <th>Case: Case Origin</th>\n",
              "    </tr>\n",
              "  </thead>\n",
              "  <tbody>\n",
              "    <tr>\n",
              "      <th>0</th>\n",
              "      <td>4317814</td>\n",
              "      <td>Closed</td>\n",
              "      <td>NaN</td>\n",
              "      <td>NaN</td>\n",
              "      <td>2019-07-01</td>\n",
              "      <td>2019-07-01</td>\n",
              "      <td>2019-05-16 15:19:00</td>\n",
              "      <td>2019-06-25 15:35:00</td>\n",
              "      <td>Baptist Homes Update</td>\n",
              "      <td>Samuel Cormaty</td>\n",
              "      <td>Suchendra Babu Penjuri</td>\n",
              "      <td>Health Plan</td>\n",
              "      <td>HPCST-COMM</td>\n",
              "      <td>Level 3</td>\n",
              "      <td>40</td>\n",
              "      <td>ProAct1</td>\n",
              "      <td>ProAct</td>\n",
              "      <td>QA Design - Baptist Homes Update</td>\n",
              "      <td>Removing co-payments and adding specialty Coin...</td>\n",
              "      <td>1.0</td>\n",
              "      <td>Client Created</td>\n",
              "      <td>0</td>\n",
              "      <td>Parallel Work Assignment</td>\n",
              "      <td>Normal</td>\n",
              "      <td>Michelle Jill</td>\n",
              "      <td>2996</td>\n",
              "      <td>1.0</td>\n",
              "      <td>2019-06-25</td>\n",
              "      <td>2019-06-25</td>\n",
              "      <td>2019-06-25 15:44:00</td>\n",
              "      <td>NaT</td>\n",
              "      <td>NaT</td>\n",
              "      <td>NaN</td>\n",
              "      <td>NaN</td>\n",
              "      <td>Yes</td>\n",
              "      <td>2019-06-25 15:44:00</td>\n",
              "      <td>2019-06-25</td>\n",
              "      <td>2019-06-25 15:38:00</td>\n",
              "      <td>Closed</td>\n",
              "      <td>Benefits</td>\n",
              "      <td>New Business Implementation</td>\n",
              "      <td>Email</td>\n",
              "    </tr>\n",
              "    <tr>\n",
              "      <th>1</th>\n",
              "      <td>4008180</td>\n",
              "      <td>Closed</td>\n",
              "      <td>NaN</td>\n",
              "      <td>NaN</td>\n",
              "      <td>2019-01-11</td>\n",
              "      <td>2019-01-01</td>\n",
              "      <td>2019-01-07 16:18:00</td>\n",
              "      <td>2019-01-07 16:18:00</td>\n",
              "      <td>CCO: Vicodin Remove DDL EGWP</td>\n",
              "      <td>Shalin Nath</td>\n",
              "      <td>Saranya Selvaraj</td>\n",
              "      <td>Health Plan</td>\n",
              "      <td>HPCST-MEDD</td>\n",
              "      <td>Level 3</td>\n",
              "      <td>2</td>\n",
              "      <td>MVP MEDICARE D HMO WEST</td>\n",
              "      <td>MVP Health Plan, Inc.</td>\n",
              "      <td>QA Design - CCO: Vicodin Remove DDL EGWP</td>\n",
              "      <td>Please remove the DDL coding for Hydrocodone/A...</td>\n",
              "      <td>50.0</td>\n",
              "      <td>CCO-Clinical Benefits</td>\n",
              "      <td>0</td>\n",
              "      <td>Parallel Work Assignment</td>\n",
              "      <td>Urgent</td>\n",
              "      <td>Amanda Van Beekum</td>\n",
              "      <td>1501</td>\n",
              "      <td>1.0</td>\n",
              "      <td>2019-01-07</td>\n",
              "      <td>2019-01-09</td>\n",
              "      <td>2019-01-09 16:18:00</td>\n",
              "      <td>2019-01-08</td>\n",
              "      <td>2019-01-10</td>\n",
              "      <td>Yes</td>\n",
              "      <td>Yes</td>\n",
              "      <td>Yes</td>\n",
              "      <td>2019-01-09 16:18:00</td>\n",
              "      <td>2019-01-09</td>\n",
              "      <td>2019-01-09 13:00:00</td>\n",
              "      <td>Closed</td>\n",
              "      <td>CCO Clinical Benefits</td>\n",
              "      <td>Major Request</td>\n",
              "      <td>Email</td>\n",
              "    </tr>\n",
              "    <tr>\n",
              "      <th>2</th>\n",
              "      <td>4072187</td>\n",
              "      <td>Closed</td>\n",
              "      <td>NaN</td>\n",
              "      <td>NaN</td>\n",
              "      <td>2019-02-05</td>\n",
              "      <td>2019-02-01</td>\n",
              "      <td>2019-01-29 22:15:00</td>\n",
              "      <td>2019-01-29 22:15:00</td>\n",
              "      <td>MEDICA_MDHC42994</td>\n",
              "      <td>Samuel Cormaty</td>\n",
              "      <td>Jothi Priya Durairaj</td>\n",
              "      <td>Health Plan</td>\n",
              "      <td>HPCST-COMM</td>\n",
              "      <td>Level 3</td>\n",
              "      <td>8</td>\n",
              "      <td>COMM LARGE GROUP MIC MN</td>\n",
              "      <td>Medica Health Plans</td>\n",
              "      <td>QA Design - MEDICA_MDHC42994</td>\n",
              "      <td>MEDICA_MDHC42994</td>\n",
              "      <td>1.0</td>\n",
              "      <td>Benefit Builder</td>\n",
              "      <td>0</td>\n",
              "      <td>Parallel Work Assignment</td>\n",
              "      <td>Normal</td>\n",
              "      <td>Integration Benefit Builder</td>\n",
              "      <td>0281</td>\n",
              "      <td>2.0</td>\n",
              "      <td>2019-01-29</td>\n",
              "      <td>2019-01-31</td>\n",
              "      <td>2019-02-06 16:31:00</td>\n",
              "      <td>2019-01-31</td>\n",
              "      <td>2019-02-04</td>\n",
              "      <td>Yes</td>\n",
              "      <td>Yes</td>\n",
              "      <td>Yes</td>\n",
              "      <td>2019-02-06 16:31:00</td>\n",
              "      <td>2019-02-01</td>\n",
              "      <td>2019-01-31 10:36:00</td>\n",
              "      <td>Closed</td>\n",
              "      <td>Benefits</td>\n",
              "      <td>Minor Request</td>\n",
              "      <td>Email</td>\n",
              "    </tr>\n",
              "    <tr>\n",
              "      <th>3</th>\n",
              "      <td>4113046</td>\n",
              "      <td>Closed</td>\n",
              "      <td>NaN</td>\n",
              "      <td>NaN</td>\n",
              "      <td>2019-02-25</td>\n",
              "      <td>2019-03-01</td>\n",
              "      <td>2019-02-18 11:45:00</td>\n",
              "      <td>2019-02-18 11:45:00</td>\n",
              "      <td>CBC 3/1 Alt TF Update</td>\n",
              "      <td>Samuel Cormaty</td>\n",
              "      <td>Suman Punuru</td>\n",
              "      <td>Health Plan</td>\n",
              "      <td>HPCST-MEDD</td>\n",
              "      <td>Level 3</td>\n",
              "      <td>4</td>\n",
              "      <td>Capital BlueCross</td>\n",
              "      <td>Capital BlueCross</td>\n",
              "      <td>QA Design - CBC 3/1 Alt TF Update</td>\n",
              "      <td>Alt TF update Effective 3/1. Please run attach...</td>\n",
              "      <td>1.0</td>\n",
              "      <td>CCO-Clinical Benefits</td>\n",
              "      <td>0</td>\n",
              "      <td>Parallel Work Assignment</td>\n",
              "      <td>Normal</td>\n",
              "      <td>Aaron Peters</td>\n",
              "      <td>8600</td>\n",
              "      <td>1.0</td>\n",
              "      <td>2019-02-18</td>\n",
              "      <td>2019-02-21</td>\n",
              "      <td>2019-02-22 12:37:00</td>\n",
              "      <td>2019-02-19</td>\n",
              "      <td>2019-02-22</td>\n",
              "      <td>Yes</td>\n",
              "      <td>Yes</td>\n",
              "      <td>Yes</td>\n",
              "      <td>2019-02-22 12:37:00</td>\n",
              "      <td>2019-02-22</td>\n",
              "      <td>2019-02-21 09:14:00</td>\n",
              "      <td>Closed</td>\n",
              "      <td>CCO Clinical Benefits</td>\n",
              "      <td>Major Request</td>\n",
              "      <td>Email</td>\n",
              "    </tr>\n",
              "    <tr>\n",
              "      <th>4</th>\n",
              "      <td>4162007</td>\n",
              "      <td>Closed</td>\n",
              "      <td>NaN</td>\n",
              "      <td>NaN</td>\n",
              "      <td>2019-03-12</td>\n",
              "      <td>2019-02-28</td>\n",
              "      <td>2019-03-10 19:15:00</td>\n",
              "      <td>2019-03-10 19:15:00</td>\n",
              "      <td>NE Weekly Formulary update 02-28</td>\n",
              "      <td>Shalin Nath</td>\n",
              "      <td>Kameswararao Indrakanti</td>\n",
              "      <td>Health Plan</td>\n",
              "      <td>HPCST-MEDICAID</td>\n",
              "      <td>Level 3</td>\n",
              "      <td>4</td>\n",
              "      <td>WellCare Nebraska Medicaid</td>\n",
              "      <td>WellCare</td>\n",
              "      <td>QA Design - NE Weekly Formulary update 02-28</td>\n",
              "      <td>NE Weekly Formulary update 02-28 See CI for Co...</td>\n",
              "      <td>1.0</td>\n",
              "      <td>Drug Coverage</td>\n",
              "      <td>0</td>\n",
              "      <td>Parallel Work Assignment</td>\n",
              "      <td>Urgent</td>\n",
              "      <td>Julie Simmons</td>\n",
              "      <td>8896</td>\n",
              "      <td>2.0</td>\n",
              "      <td>2019-03-10</td>\n",
              "      <td>2019-03-12</td>\n",
              "      <td>2019-03-14 14:13:00</td>\n",
              "      <td>2019-03-11</td>\n",
              "      <td>2019-03-12</td>\n",
              "      <td>Yes</td>\n",
              "      <td>Yes</td>\n",
              "      <td>Yes</td>\n",
              "      <td>2019-03-14 14:12:00</td>\n",
              "      <td>2019-03-12</td>\n",
              "      <td>2019-03-12 13:30:00</td>\n",
              "      <td>Closed</td>\n",
              "      <td>Benefits</td>\n",
              "      <td>Minor Request</td>\n",
              "      <td>Email</td>\n",
              "    </tr>\n",
              "    <tr>\n",
              "      <th>5</th>\n",
              "      <td>4207341</td>\n",
              "      <td>Closed</td>\n",
              "      <td>NaN</td>\n",
              "      <td>NaN</td>\n",
              "      <td>2019-04-02</td>\n",
              "      <td>2019-04-01</td>\n",
              "      <td>2019-03-29 12:13:00</td>\n",
              "      <td>2019-03-29 12:13:00</td>\n",
              "      <td>S040-AM0X BB</td>\n",
              "      <td>Samuel Cormaty</td>\n",
              "      <td>Karthikalakshmi Annamalai</td>\n",
              "      <td>Health Plan</td>\n",
              "      <td>HPCST-COMM</td>\n",
              "      <td>Level 3</td>\n",
              "      <td>3</td>\n",
              "      <td>TUFTS FULLY INS NON SAVER</td>\n",
              "      <td>Tufts Health Plan</td>\n",
              "      <td>QA Design - S040-AM0X BB</td>\n",
              "      <td>NEW BB</td>\n",
              "      <td>1.0</td>\n",
              "      <td>Benefit Builder; Integrated Accumulations; New...</td>\n",
              "      <td>0</td>\n",
              "      <td>Parallel Work Assignment</td>\n",
              "      <td>Normal</td>\n",
              "      <td>Integration Benefit Builder</td>\n",
              "      <td>7300</td>\n",
              "      <td>1.0</td>\n",
              "      <td>2019-03-29</td>\n",
              "      <td>2019-04-01</td>\n",
              "      <td>2019-04-01 11:05:00</td>\n",
              "      <td>2019-03-29</td>\n",
              "      <td>2019-04-01</td>\n",
              "      <td>Yes</td>\n",
              "      <td>Yes</td>\n",
              "      <td>Yes</td>\n",
              "      <td>2019-04-01 11:05:00</td>\n",
              "      <td>2019-04-01</td>\n",
              "      <td>2019-04-01 07:38:00</td>\n",
              "      <td>Closed</td>\n",
              "      <td>Benefits</td>\n",
              "      <td>Minor Request</td>\n",
              "      <td>Email</td>\n",
              "    </tr>\n",
              "    <tr>\n",
              "      <th>6</th>\n",
              "      <td>4251691</td>\n",
              "      <td>Closed</td>\n",
              "      <td>NaN</td>\n",
              "      <td>NaN</td>\n",
              "      <td>2019-04-30</td>\n",
              "      <td>2019-05-01</td>\n",
              "      <td>2019-04-17 12:13:00</td>\n",
              "      <td>2019-04-17 12:13:00</td>\n",
              "      <td>MOB_PacificSource MED D_NIF 88286- McK_Carrier...</td>\n",
              "      <td>Samuel Cormaty</td>\n",
              "      <td>Arun Prasad Kannan</td>\n",
              "      <td>Health Plan</td>\n",
              "      <td>HPCST-MEDD</td>\n",
              "      <td>Level 3</td>\n",
              "      <td>9</td>\n",
              "      <td>PacificSource Medicare</td>\n",
              "      <td>PacificSource Health Plans</td>\n",
              "      <td>QA Design - MOB_PacificSource MED D_NIF 88286-...</td>\n",
              "      <td>Update to NPP for ALF and LTC profiles ONLY. C...</td>\n",
              "      <td>3.0</td>\n",
              "      <td>Client Pricing (NIF – MEDD)</td>\n",
              "      <td>0</td>\n",
              "      <td>Parallel Work Assignment</td>\n",
              "      <td>Normal</td>\n",
              "      <td>Keith Lovett</td>\n",
              "      <td>6158</td>\n",
              "      <td>1.5</td>\n",
              "      <td>2019-04-17</td>\n",
              "      <td>2019-04-25</td>\n",
              "      <td>2019-04-26 14:28:00</td>\n",
              "      <td>2019-04-23</td>\n",
              "      <td>2019-04-29</td>\n",
              "      <td>Yes</td>\n",
              "      <td>Yes</td>\n",
              "      <td>Yes</td>\n",
              "      <td>2019-04-26 14:28:00</td>\n",
              "      <td>2019-04-26</td>\n",
              "      <td>2019-04-25 11:24:00</td>\n",
              "      <td>Closed</td>\n",
              "      <td>Benefits</td>\n",
              "      <td>Major Request</td>\n",
              "      <td>Email</td>\n",
              "    </tr>\n",
              "    <tr>\n",
              "      <th>7</th>\n",
              "      <td>4292379</td>\n",
              "      <td>Closed</td>\n",
              "      <td>NaN</td>\n",
              "      <td>NaN</td>\n",
              "      <td>2019-05-16</td>\n",
              "      <td>2019-06-01</td>\n",
              "      <td>2019-05-07 08:10:00</td>\n",
              "      <td>2019-05-07 08:10:00</td>\n",
              "      <td>BCBSSC HIX -6/1/2019 Business Blue Essentials ...</td>\n",
              "      <td>Samuel Cormaty</td>\n",
              "      <td>Vandhana Elangovan</td>\n",
              "      <td>Health Plan</td>\n",
              "      <td>HPCST-EXCH</td>\n",
              "      <td>Level 3</td>\n",
              "      <td>14</td>\n",
              "      <td>BCBSSC SHOP-Private</td>\n",
              "      <td>Blue Cross and Blue Shield of SC</td>\n",
              "      <td>QA Design - BCBSSC HIX -6/1/2019 Business Blue...</td>\n",
              "      <td>ZCVS30619 - new plan. Please see the attached ...</td>\n",
              "      <td>1.0</td>\n",
              "      <td>Copayment; Drug Coverage; Formulary</td>\n",
              "      <td>0</td>\n",
              "      <td>Parallel Work Assignment</td>\n",
              "      <td>Normal</td>\n",
              "      <td>Raechel Herrera</td>\n",
              "      <td>4241</td>\n",
              "      <td>2.0</td>\n",
              "      <td>2019-05-07</td>\n",
              "      <td>2019-05-15</td>\n",
              "      <td>2019-05-20 21:52:00</td>\n",
              "      <td>2019-05-13</td>\n",
              "      <td>2019-05-15</td>\n",
              "      <td>Yes</td>\n",
              "      <td>Yes</td>\n",
              "      <td>Yes</td>\n",
              "      <td>2019-05-20 21:52:00</td>\n",
              "      <td>2019-05-15</td>\n",
              "      <td>2019-05-15 08:34:00</td>\n",
              "      <td>Closed</td>\n",
              "      <td>Benefits</td>\n",
              "      <td>Minor Request</td>\n",
              "      <td>Email</td>\n",
              "    </tr>\n",
              "    <tr>\n",
              "      <th>8</th>\n",
              "      <td>4344672</td>\n",
              "      <td>Closed</td>\n",
              "      <td>NaN</td>\n",
              "      <td>NaN</td>\n",
              "      <td>2019-06-05</td>\n",
              "      <td>2019-06-01</td>\n",
              "      <td>2019-05-24 16:00:00</td>\n",
              "      <td>2019-05-24 16:00:00</td>\n",
              "      <td>DAK Mektovi Update</td>\n",
              "      <td>Shalin Nath</td>\n",
              "      <td>Gowtham C D</td>\n",
              "      <td>Health Plan</td>\n",
              "      <td>HPCST-COMM</td>\n",
              "      <td>Level 3</td>\n",
              "      <td>14</td>\n",
              "      <td>DAKOTACARE</td>\n",
              "      <td>DAKOTACARE</td>\n",
              "      <td>QA Design - DAK Mektovi Update</td>\n",
              "      <td>DAK Mektovi Update</td>\n",
              "      <td>0.0</td>\n",
              "      <td>CCO-Clinical Benefits</td>\n",
              "      <td>0</td>\n",
              "      <td>Parallel Work Assignment</td>\n",
              "      <td>Normal</td>\n",
              "      <td>James Direnzo</td>\n",
              "      <td>4330</td>\n",
              "      <td>2.0</td>\n",
              "      <td>2019-05-27</td>\n",
              "      <td>2019-05-31</td>\n",
              "      <td>2019-06-07 09:11:00</td>\n",
              "      <td>2019-05-30</td>\n",
              "      <td>2019-06-03</td>\n",
              "      <td>Yes</td>\n",
              "      <td>Yes</td>\n",
              "      <td>Yes</td>\n",
              "      <td>2019-06-07 09:11:00</td>\n",
              "      <td>2019-06-04</td>\n",
              "      <td>2019-05-31 08:30:00</td>\n",
              "      <td>Closed</td>\n",
              "      <td>CCO Clinical Benefits</td>\n",
              "      <td>Minor Request</td>\n",
              "      <td>Email</td>\n",
              "    </tr>\n",
              "    <tr>\n",
              "      <th>9</th>\n",
              "      <td>4400491</td>\n",
              "      <td>Closed</td>\n",
              "      <td>NaN</td>\n",
              "      <td>NaN</td>\n",
              "      <td>2019-06-25</td>\n",
              "      <td>2019-06-01</td>\n",
              "      <td>2019-06-14 09:15:00</td>\n",
              "      <td>2019-06-14 09:15:00</td>\n",
              "      <td>Change: Greenway Auto Chg Reqt SRCSEDTDU</td>\n",
              "      <td>Samuel Cormaty</td>\n",
              "      <td>Vandhana Elangovan</td>\n",
              "      <td>Health Plan</td>\n",
              "      <td>HPCST-COMM</td>\n",
              "      <td>Level 2</td>\n",
              "      <td>13</td>\n",
              "      <td>SC NA BCFL RSP Tier 5</td>\n",
              "      <td>Blue Cross and Blue Shield of SC</td>\n",
              "      <td>QA Design - Change: Greenway Auto Chg Reqt SRC...</td>\n",
              "      <td>please see attached</td>\n",
              "      <td>1.0</td>\n",
              "      <td>Accumulations; Copayment; Drug Coverage; Rx Da...</td>\n",
              "      <td>0</td>\n",
              "      <td>Parallel Work Assignment</td>\n",
              "      <td>Normal</td>\n",
              "      <td>Kristin Brost</td>\n",
              "      <td>4451</td>\n",
              "      <td>2.0</td>\n",
              "      <td>2019-06-14</td>\n",
              "      <td>2019-06-21</td>\n",
              "      <td>2019-06-27 19:24:00</td>\n",
              "      <td>2019-06-18</td>\n",
              "      <td>2019-06-21</td>\n",
              "      <td>Yes</td>\n",
              "      <td>Yes</td>\n",
              "      <td>Yes</td>\n",
              "      <td>2019-06-27 19:24:00</td>\n",
              "      <td>2019-06-25</td>\n",
              "      <td>2019-06-21 08:41:00</td>\n",
              "      <td>Closed</td>\n",
              "      <td>Benefits</td>\n",
              "      <td>Minor Request</td>\n",
              "      <td>Email</td>\n",
              "    </tr>\n",
              "  </tbody>\n",
              "</table>\n",
              "</div>"
            ],
            "text/plain": [
              "   Case: Case Number  ... Case: Case Origin\n",
              "0            4317814  ...             Email\n",
              "1            4008180  ...             Email\n",
              "2            4072187  ...             Email\n",
              "3            4113046  ...             Email\n",
              "4            4162007  ...             Email\n",
              "5            4207341  ...             Email\n",
              "6            4251691  ...             Email\n",
              "7            4292379  ...             Email\n",
              "8            4344672  ...             Email\n",
              "9            4400491  ...             Email\n",
              "\n",
              "[10 rows x 42 columns]"
            ]
          },
          "metadata": {
            "tags": []
          },
          "execution_count": 3
        }
      ]
    },
    {
      "cell_type": "code",
      "metadata": {
        "id": "NC11bXPhsQKj",
        "colab_type": "code",
        "colab": {
          "base_uri": "https://localhost:8080/"
        },
        "outputId": "af51b3b6-72dd-48fd-f814-b72350b7acb0"
      },
      "source": [
        "dfCase['Business Area'].unique()"
      ],
      "execution_count": 4,
      "outputs": [
        {
          "output_type": "execute_result",
          "data": {
            "text/plain": [
              "array(['HPCST-COMM', 'HPCST-MEDD', 'HPCST-MEDICAID', 'HPCST-EXCH',\n",
              "       'HPCST-STCOB', 'HPCST-MEDD-DUALS', 'HPCST-BLUES', 'HPCST'],\n",
              "      dtype=object)"
            ]
          },
          "metadata": {
            "tags": []
          },
          "execution_count": 4
        }
      ]
    },
    {
      "cell_type": "code",
      "metadata": {
        "id": "tpquXnc4uN2i",
        "colab_type": "code",
        "colab": {
          "base_uri": "https://localhost:8080/",
          "height": 34
        },
        "outputId": "9fe1c956-868d-40ad-d2cb-fa81f118fdf5"
      },
      "source": [
        "dfCase['Case: Level of Difficulty'].unique()"
      ],
      "execution_count": 5,
      "outputs": [
        {
          "output_type": "execute_result",
          "data": {
            "text/plain": [
              "array(['Level 3', 'Level 2', 'Level 1', nan], dtype=object)"
            ]
          },
          "metadata": {
            "tags": []
          },
          "execution_count": 5
        }
      ]
    },
    {
      "cell_type": "code",
      "metadata": {
        "id": "IVXiu89QFaL-",
        "colab_type": "code",
        "colab": {
          "base_uri": "https://localhost:8080/"
        },
        "outputId": "75aacb22-8e0b-4100-8012-0f98f25da0c6"
      },
      "source": [
        "dfCase['Case: Case Origin'].unique()"
      ],
      "execution_count": 6,
      "outputs": [
        {
          "output_type": "execute_result",
          "data": {
            "text/plain": [
              "array(['Email', 'Web', nan, 'Audit', 'Client Meeting',\n",
              "       'Testing/Validation', 'Meeting', 'Internal-Claims Surveillance'],\n",
              "      dtype=object)"
            ]
          },
          "metadata": {
            "tags": []
          },
          "execution_count": 6
        }
      ]
    },
    {
      "cell_type": "code",
      "metadata": {
        "id": "DByqSC48FtyC",
        "colab_type": "code",
        "colab": {
          "base_uri": "https://localhost:8080/"
        },
        "outputId": "6738ea8b-f9e1-48a5-c0c4-0181c77212ed"
      },
      "source": [
        "dfCase.tail(10)"
      ],
      "execution_count": 7,
      "outputs": [
        {
          "output_type": "execute_result",
          "data": {
            "text/html": [
              "<div>\n",
              "<style scoped>\n",
              "    .dataframe tbody tr th:only-of-type {\n",
              "        vertical-align: middle;\n",
              "    }\n",
              "\n",
              "    .dataframe tbody tr th {\n",
              "        vertical-align: top;\n",
              "    }\n",
              "\n",
              "    .dataframe thead th {\n",
              "        text-align: right;\n",
              "    }\n",
              "</style>\n",
              "<table border=\"1\" class=\"dataframe\">\n",
              "  <thead>\n",
              "    <tr style=\"text-align: right;\">\n",
              "      <th></th>\n",
              "      <th>Case: Case Number</th>\n",
              "      <th>Case: Case Status</th>\n",
              "      <th>Benefit Test Type</th>\n",
              "      <th>Benefit Test Count</th>\n",
              "      <th>Case: Client Commitment Date</th>\n",
              "      <th>Effective Date</th>\n",
              "      <th>Case: Date/Time Opened</th>\n",
              "      <th>Case: Submitted Date</th>\n",
              "      <th>Case: Subject</th>\n",
              "      <th>WA Owner Manager</th>\n",
              "      <th>Work Assignment: Owner Name</th>\n",
              "      <th>Case: Market Segment</th>\n",
              "      <th>Business Area</th>\n",
              "      <th>Case: Level of Difficulty</th>\n",
              "      <th>Case: Age (In Days) Calendar</th>\n",
              "      <th>Client Name</th>\n",
              "      <th>Case: Super Client</th>\n",
              "      <th>Work Assignment: Workflow Assignment Name</th>\n",
              "      <th>Case: Description</th>\n",
              "      <th>Case: # of Plans Affected</th>\n",
              "      <th>Case: Request Type</th>\n",
              "      <th>Case: Related to a Project</th>\n",
              "      <th>Work Assignment: Record Type</th>\n",
              "      <th>Priority</th>\n",
              "      <th>Work Assignment: Created By</th>\n",
              "      <th>Platform ID</th>\n",
              "      <th>Actual Hours of Effort</th>\n",
              "      <th>Work Assignment: Created Date</th>\n",
              "      <th>Work Assignment: Last Modified Date</th>\n",
              "      <th>Case: Case Date/Time Last Modified</th>\n",
              "      <th>Target Completion Date</th>\n",
              "      <th>Case: Testing Target Completion Date</th>\n",
              "      <th>Case: Met Coding TCD</th>\n",
              "      <th>Case: Met Testing TCD</th>\n",
              "      <th>Case: Met Client Commitment Date</th>\n",
              "      <th>Case: Date/Time Closed</th>\n",
              "      <th>Case: In Production Date</th>\n",
              "      <th>Actual End Date</th>\n",
              "      <th>Status</th>\n",
              "      <th>Case: Classification</th>\n",
              "      <th>Case: Source Type</th>\n",
              "      <th>Case: Case Origin</th>\n",
              "    </tr>\n",
              "  </thead>\n",
              "  <tbody>\n",
              "    <tr>\n",
              "      <th>63475</th>\n",
              "      <td>5350199</td>\n",
              "      <td>Test Checkpoint</td>\n",
              "      <td>NaN</td>\n",
              "      <td>NaN</td>\n",
              "      <td>2020-05-28</td>\n",
              "      <td>2020-07-08</td>\n",
              "      <td>2020-05-26 10:44:00</td>\n",
              "      <td>2020-05-26 10:44:00</td>\n",
              "      <td>MVP MOB Dymista PC update</td>\n",
              "      <td>Susan Colucci</td>\n",
              "      <td>YuvaKumar Kasaru</td>\n",
              "      <td>Health Plan</td>\n",
              "      <td>HPCST-COMM</td>\n",
              "      <td>Level 3</td>\n",
              "      <td>0</td>\n",
              "      <td>MVP NY INSURED COMMERCIAL</td>\n",
              "      <td>MVP Health Plan, Inc.</td>\n",
              "      <td>QA Design - MVP MOB Dymista PC update</td>\n",
              "      <td>See CI for updates.</td>\n",
              "      <td>0.0</td>\n",
              "      <td>CCO-Clinical Benefits</td>\n",
              "      <td>0</td>\n",
              "      <td>Parallel Work Assignment</td>\n",
              "      <td>Urgent</td>\n",
              "      <td>Brandan Walton</td>\n",
              "      <td>1510</td>\n",
              "      <td>3.0</td>\n",
              "      <td>2020-05-26</td>\n",
              "      <td>2020-05-26</td>\n",
              "      <td>2020-05-26 19:32:00</td>\n",
              "      <td>2020-05-26</td>\n",
              "      <td>2020-05-27</td>\n",
              "      <td>Yes</td>\n",
              "      <td>Yes</td>\n",
              "      <td>No</td>\n",
              "      <td>NaT</td>\n",
              "      <td>NaT</td>\n",
              "      <td>2020-05-26 19:28:00</td>\n",
              "      <td>Closed</td>\n",
              "      <td>CCO Clinical Benefits</td>\n",
              "      <td>Production Correction</td>\n",
              "      <td>Email</td>\n",
              "    </tr>\n",
              "    <tr>\n",
              "      <th>63476</th>\n",
              "      <td>3363699</td>\n",
              "      <td>Closed</td>\n",
              "      <td>NaN</td>\n",
              "      <td>NaN</td>\n",
              "      <td>2019-05-02</td>\n",
              "      <td>2018-04-02</td>\n",
              "      <td>2018-04-02 13:47:00</td>\n",
              "      <td>2019-03-20 18:44:00</td>\n",
              "      <td>Molina TX Buprenorphine And Suboxone smart coding</td>\n",
              "      <td>Pramesh Dhasmana</td>\n",
              "      <td>Gurumoorthy Shanmugham</td>\n",
              "      <td>Health Plan</td>\n",
              "      <td>HPCST-MEDICAID</td>\n",
              "      <td>Level 3</td>\n",
              "      <td>394</td>\n",
              "      <td>Molina Texas STAR</td>\n",
              "      <td>Molina Healthcare</td>\n",
              "      <td>QA Design - Molina TX Buprenorphine And Suboxo...</td>\n",
              "      <td>Please see attached CI Matrix. Please use date...</td>\n",
              "      <td>1.0</td>\n",
              "      <td>Fill Restrictions</td>\n",
              "      <td>0</td>\n",
              "      <td>Parallel Work Assignment</td>\n",
              "      <td>Urgent</td>\n",
              "      <td>Matthew Van Os</td>\n",
              "      <td>0825</td>\n",
              "      <td>4.0</td>\n",
              "      <td>2019-03-20</td>\n",
              "      <td>2019-03-28</td>\n",
              "      <td>2019-05-01 14:26:00</td>\n",
              "      <td>2019-03-25</td>\n",
              "      <td>2019-03-29</td>\n",
              "      <td>Yes</td>\n",
              "      <td>Yes</td>\n",
              "      <td>Yes</td>\n",
              "      <td>2019-05-01 14:06:00</td>\n",
              "      <td>2019-05-01</td>\n",
              "      <td>2019-03-28 17:28:00</td>\n",
              "      <td>Closed</td>\n",
              "      <td>Benefits</td>\n",
              "      <td>Minor Request</td>\n",
              "      <td>Email</td>\n",
              "    </tr>\n",
              "    <tr>\n",
              "      <th>63477</th>\n",
              "      <td>3384229</td>\n",
              "      <td>Closed</td>\n",
              "      <td>NaN</td>\n",
              "      <td>NaN</td>\n",
              "      <td>2019-04-15</td>\n",
              "      <td>2018-04-12</td>\n",
              "      <td>2018-04-12 12:21:00</td>\n",
              "      <td>2019-03-20 20:14:00</td>\n",
              "      <td>Molina TX Nuvigil smart coding</td>\n",
              "      <td>Pramesh Dhasmana</td>\n",
              "      <td>Navin Bangera</td>\n",
              "      <td>Health Plan</td>\n",
              "      <td>HPCST-MEDICAID</td>\n",
              "      <td>Level 3</td>\n",
              "      <td>376</td>\n",
              "      <td>Molina Texas STAR</td>\n",
              "      <td>Molina Healthcare</td>\n",
              "      <td>QA Design - Molina TX Nuvigil smart coding</td>\n",
              "      <td>Please see attached CI Matrix. Please use date...</td>\n",
              "      <td>2.0</td>\n",
              "      <td>Fill Restrictions</td>\n",
              "      <td>0</td>\n",
              "      <td>Parallel Work Assignment</td>\n",
              "      <td>Urgent</td>\n",
              "      <td>Matthew Van Os</td>\n",
              "      <td>0825</td>\n",
              "      <td>5.0</td>\n",
              "      <td>2019-03-20</td>\n",
              "      <td>2019-03-26</td>\n",
              "      <td>2019-04-23 12:59:00</td>\n",
              "      <td>2019-03-22</td>\n",
              "      <td>2019-03-27</td>\n",
              "      <td>Yes</td>\n",
              "      <td>Yes</td>\n",
              "      <td>Yes</td>\n",
              "      <td>2019-04-23 12:59:00</td>\n",
              "      <td>2019-04-12</td>\n",
              "      <td>2019-03-26 17:12:00</td>\n",
              "      <td>Closed</td>\n",
              "      <td>Benefits</td>\n",
              "      <td>Minor Request</td>\n",
              "      <td>Email</td>\n",
              "    </tr>\n",
              "    <tr>\n",
              "      <th>63478</th>\n",
              "      <td>3391084</td>\n",
              "      <td>Closed</td>\n",
              "      <td>NaN</td>\n",
              "      <td>NaN</td>\n",
              "      <td>2019-05-09</td>\n",
              "      <td>2018-04-17</td>\n",
              "      <td>2018-04-17 13:33:00</td>\n",
              "      <td>2019-04-13 12:58:00</td>\n",
              "      <td>Molina TX Oxycontin Smart coding</td>\n",
              "      <td>Pramesh Dhasmana</td>\n",
              "      <td>Gurumoorthy Shanmugham</td>\n",
              "      <td>Health Plan</td>\n",
              "      <td>HPCST-MEDICAID</td>\n",
              "      <td>Level 3</td>\n",
              "      <td>412</td>\n",
              "      <td>Molina Texas STAR</td>\n",
              "      <td>Molina Healthcare</td>\n",
              "      <td>QA Design - Molina TX Oxycontin Smart coding</td>\n",
              "      <td>Please see attached CI Matrix. Please use date...</td>\n",
              "      <td>1.0</td>\n",
              "      <td>Fill Restrictions</td>\n",
              "      <td>0</td>\n",
              "      <td>Parallel Work Assignment</td>\n",
              "      <td>Urgent</td>\n",
              "      <td>Matthew Van Os</td>\n",
              "      <td>0825</td>\n",
              "      <td>4.0</td>\n",
              "      <td>2019-04-13</td>\n",
              "      <td>2019-04-29</td>\n",
              "      <td>2019-06-03 15:09:00</td>\n",
              "      <td>2019-04-18</td>\n",
              "      <td>2019-04-30</td>\n",
              "      <td>Yes</td>\n",
              "      <td>Yes</td>\n",
              "      <td>Yes</td>\n",
              "      <td>2019-06-03 15:09:00</td>\n",
              "      <td>2019-05-09</td>\n",
              "      <td>2019-04-29 18:09:00</td>\n",
              "      <td>Closed</td>\n",
              "      <td>Benefits</td>\n",
              "      <td>Project</td>\n",
              "      <td>Email</td>\n",
              "    </tr>\n",
              "    <tr>\n",
              "      <th>63479</th>\n",
              "      <td>3369064</td>\n",
              "      <td>Closed</td>\n",
              "      <td>NaN</td>\n",
              "      <td>NaN</td>\n",
              "      <td>2019-04-15</td>\n",
              "      <td>2018-04-04</td>\n",
              "      <td>2018-04-04 17:25:00</td>\n",
              "      <td>2019-03-20 19:39:00</td>\n",
              "      <td>Molina TX Ingrezza smart coding</td>\n",
              "      <td>Nicki Hollerich</td>\n",
              "      <td>Faviola Aguilar</td>\n",
              "      <td>Health Plan</td>\n",
              "      <td>HPCST-MEDICAID</td>\n",
              "      <td>Level 3</td>\n",
              "      <td>384</td>\n",
              "      <td>Molina Texas STAR</td>\n",
              "      <td>Molina Healthcare</td>\n",
              "      <td>QA Design - Molina TX Ingrezza smart coding</td>\n",
              "      <td>Please see attached CI Matrix. Please use date...</td>\n",
              "      <td>2.0</td>\n",
              "      <td>Fill Restrictions</td>\n",
              "      <td>0</td>\n",
              "      <td>Parallel Work Assignment</td>\n",
              "      <td>Urgent</td>\n",
              "      <td>Matthew Van Os</td>\n",
              "      <td>0825</td>\n",
              "      <td>1.0</td>\n",
              "      <td>2019-03-20</td>\n",
              "      <td>2019-03-28</td>\n",
              "      <td>2019-04-23 11:23:00</td>\n",
              "      <td>2019-03-25</td>\n",
              "      <td>2019-03-29</td>\n",
              "      <td>Yes</td>\n",
              "      <td>Yes</td>\n",
              "      <td>Yes</td>\n",
              "      <td>2019-04-23 11:23:00</td>\n",
              "      <td>2019-04-12</td>\n",
              "      <td>2019-03-28 15:08:00</td>\n",
              "      <td>Closed</td>\n",
              "      <td>Benefits</td>\n",
              "      <td>Minor Request</td>\n",
              "      <td>Email</td>\n",
              "    </tr>\n",
              "    <tr>\n",
              "      <th>63480</th>\n",
              "      <td>3370001</td>\n",
              "      <td>Closed</td>\n",
              "      <td>NaN</td>\n",
              "      <td>NaN</td>\n",
              "      <td>2019-05-02</td>\n",
              "      <td>2018-04-05</td>\n",
              "      <td>2018-04-05 10:12:00</td>\n",
              "      <td>2019-04-11 13:45:00</td>\n",
              "      <td>Molina TX Lidocaine smart coding</td>\n",
              "      <td>Nicki Hollerich</td>\n",
              "      <td>Faviola Aguilar</td>\n",
              "      <td>Health Plan</td>\n",
              "      <td>HPCST-MEDICAID</td>\n",
              "      <td>Level 3</td>\n",
              "      <td>396</td>\n",
              "      <td>Molina Texas STAR</td>\n",
              "      <td>Molina Healthcare</td>\n",
              "      <td>QA Design - Molina TX Lidocaine smart coding</td>\n",
              "      <td>Please see attached CI Matrix. Please use date...</td>\n",
              "      <td>1.0</td>\n",
              "      <td>Fill Restrictions</td>\n",
              "      <td>0</td>\n",
              "      <td>Parallel Work Assignment</td>\n",
              "      <td>Normal</td>\n",
              "      <td>Matthew Van Os</td>\n",
              "      <td>0825</td>\n",
              "      <td>4.5</td>\n",
              "      <td>2019-04-11</td>\n",
              "      <td>2019-04-17</td>\n",
              "      <td>2019-05-06 18:46:00</td>\n",
              "      <td>2019-04-15</td>\n",
              "      <td>2019-04-23</td>\n",
              "      <td>Yes</td>\n",
              "      <td>Yes</td>\n",
              "      <td>Yes</td>\n",
              "      <td>2019-05-06 18:46:00</td>\n",
              "      <td>2019-05-01</td>\n",
              "      <td>2019-04-17 12:12:00</td>\n",
              "      <td>Closed</td>\n",
              "      <td>Benefits</td>\n",
              "      <td>Minor Request</td>\n",
              "      <td>Email</td>\n",
              "    </tr>\n",
              "    <tr>\n",
              "      <th>63481</th>\n",
              "      <td>3641673</td>\n",
              "      <td>Closed</td>\n",
              "      <td>NaN</td>\n",
              "      <td>NaN</td>\n",
              "      <td>2019-02-25</td>\n",
              "      <td>2019-03-01</td>\n",
              "      <td>2018-08-30 09:17:00</td>\n",
              "      <td>2018-11-16 10:32:00</td>\n",
              "      <td>PHPOFMI - Opioid Implementation of Custom Opio...</td>\n",
              "      <td>Shalin Nath</td>\n",
              "      <td>Deebika Rani</td>\n",
              "      <td>Health Plan</td>\n",
              "      <td>HPCST-COMM</td>\n",
              "      <td>Level 1</td>\n",
              "      <td>176</td>\n",
              "      <td>PHP State of MI</td>\n",
              "      <td>PHYSICIAN HEALTH PLAN</td>\n",
              "      <td>QA Design - PHPOFMI - Opioid Implemtation of s...</td>\n",
              "      <td>Custom Opioid MDL updates: add/inactivate/upda...</td>\n",
              "      <td>1.0</td>\n",
              "      <td>Opioid – Custom</td>\n",
              "      <td>0</td>\n",
              "      <td>Parallel Work Assignment</td>\n",
              "      <td>Normal</td>\n",
              "      <td>Christopher Hug</td>\n",
              "      <td>1191</td>\n",
              "      <td>12.0</td>\n",
              "      <td>2019-02-04</td>\n",
              "      <td>2019-02-21</td>\n",
              "      <td>2019-02-22 13:16:00</td>\n",
              "      <td>2019-02-11</td>\n",
              "      <td>2019-02-21</td>\n",
              "      <td>Yes</td>\n",
              "      <td>Yes</td>\n",
              "      <td>Yes</td>\n",
              "      <td>2019-02-22 13:16:00</td>\n",
              "      <td>2019-02-22</td>\n",
              "      <td>2019-02-21 01:25:00</td>\n",
              "      <td>Closed</td>\n",
              "      <td>Benefits</td>\n",
              "      <td>Project</td>\n",
              "      <td>Email</td>\n",
              "    </tr>\n",
              "    <tr>\n",
              "      <th>63482</th>\n",
              "      <td>3648849</td>\n",
              "      <td>Closed</td>\n",
              "      <td>NaN</td>\n",
              "      <td>NaN</td>\n",
              "      <td>2019-06-03</td>\n",
              "      <td>2018-09-04</td>\n",
              "      <td>2018-09-04 19:04:00</td>\n",
              "      <td>2018-10-11 15:30:00</td>\n",
              "      <td>WA Medicaid-Reverse step therapy</td>\n",
              "      <td>Pramesh Dhasmana</td>\n",
              "      <td>Tuyen Nguyen</td>\n",
              "      <td>Health Plan</td>\n",
              "      <td>HPCST-MEDICAID</td>\n",
              "      <td>Level 3</td>\n",
              "      <td>272</td>\n",
              "      <td>MOLINA HEALTHCARE WA-HO</td>\n",
              "      <td>Molina Healthcare</td>\n",
              "      <td>QA Design - WA Medicaid-Reverse step therapy</td>\n",
              "      <td>Please see attached CI Matrix. Please use CI M...</td>\n",
              "      <td>1.0</td>\n",
              "      <td>Fill Restrictions</td>\n",
              "      <td>0</td>\n",
              "      <td>Parallel Work Assignment</td>\n",
              "      <td>Normal</td>\n",
              "      <td>Matthew Van Os</td>\n",
              "      <td>0540</td>\n",
              "      <td>5.0</td>\n",
              "      <td>2018-10-11</td>\n",
              "      <td>2019-05-13</td>\n",
              "      <td>2019-06-03 17:30:00</td>\n",
              "      <td>2019-05-09</td>\n",
              "      <td>2019-05-13</td>\n",
              "      <td>Yes</td>\n",
              "      <td>Yes</td>\n",
              "      <td>Yes</td>\n",
              "      <td>2019-06-03 17:30:00</td>\n",
              "      <td>2019-06-03</td>\n",
              "      <td>2019-05-13 09:49:00</td>\n",
              "      <td>Closed</td>\n",
              "      <td>Benefits</td>\n",
              "      <td>Minor Request</td>\n",
              "      <td>Email</td>\n",
              "    </tr>\n",
              "    <tr>\n",
              "      <th>63483</th>\n",
              "      <td>3804989</td>\n",
              "      <td>Closed</td>\n",
              "      <td>NaN</td>\n",
              "      <td>NaN</td>\n",
              "      <td>2019-01-10</td>\n",
              "      <td>2019-02-01</td>\n",
              "      <td>2018-11-01 16:10:00</td>\n",
              "      <td>2018-11-01 16:10:00</td>\n",
              "      <td>CR 2019 - Evolent Lighthouse - Plan Update</td>\n",
              "      <td>Samuel Cormaty</td>\n",
              "      <td>Prasanth Rangasamy</td>\n",
              "      <td>Health Plan</td>\n",
              "      <td>HPCST-MEDICAID</td>\n",
              "      <td>Level 3</td>\n",
              "      <td>67</td>\n",
              "      <td>Lighthouse Health Seconly</td>\n",
              "      <td>Evolent Health</td>\n",
              "      <td>QA Design WA</td>\n",
              "      <td>Please see attached CRD to update the followin...</td>\n",
              "      <td>1.0</td>\n",
              "      <td>COB; Drug Coverage; Prescriber Network; Prescr...</td>\n",
              "      <td>0</td>\n",
              "      <td>Read-Only User Created Work Assignment</td>\n",
              "      <td>Normal</td>\n",
              "      <td>Prasanth Rangasamy</td>\n",
              "      <td>2719</td>\n",
              "      <td>5.0</td>\n",
              "      <td>2019-01-07</td>\n",
              "      <td>2019-01-07</td>\n",
              "      <td>2019-01-07 12:36:00</td>\n",
              "      <td>2018-11-27</td>\n",
              "      <td>2019-01-07</td>\n",
              "      <td>No</td>\n",
              "      <td>Yes</td>\n",
              "      <td>Yes</td>\n",
              "      <td>2019-01-07 12:36:00</td>\n",
              "      <td>2019-01-07</td>\n",
              "      <td>2019-01-07 06:51:00</td>\n",
              "      <td>Closed</td>\n",
              "      <td>Benefits</td>\n",
              "      <td>Minor Request</td>\n",
              "      <td>Email</td>\n",
              "    </tr>\n",
              "    <tr>\n",
              "      <th>63484</th>\n",
              "      <td>3815677</td>\n",
              "      <td>Closed</td>\n",
              "      <td>NaN</td>\n",
              "      <td>NaN</td>\n",
              "      <td>2019-01-31</td>\n",
              "      <td>2019-03-01</td>\n",
              "      <td>2018-11-02 21:28:00</td>\n",
              "      <td>2018-11-02 21:28:00</td>\n",
              "      <td>LR 2019 - Evolent Arkansas Empower Secondary O...</td>\n",
              "      <td>Samuel Cormaty</td>\n",
              "      <td>BasavarajaRaveendra Nyamati</td>\n",
              "      <td>Health Plan</td>\n",
              "      <td>HPCST-MEDICAID</td>\n",
              "      <td>Level 3</td>\n",
              "      <td>97</td>\n",
              "      <td>EMPOWER HLTHCRE AR SECON</td>\n",
              "      <td>Evolent Health</td>\n",
              "      <td>QA Design</td>\n",
              "      <td>Please see attached CRD to implement new plan....</td>\n",
              "      <td>1.0</td>\n",
              "      <td>New Imp - Account Structure</td>\n",
              "      <td>0</td>\n",
              "      <td>Read-Only User Created Work Assignment</td>\n",
              "      <td>Normal</td>\n",
              "      <td>Suchendra Babu Penjuri</td>\n",
              "      <td>2898</td>\n",
              "      <td>3.0</td>\n",
              "      <td>2019-01-30</td>\n",
              "      <td>2019-01-30</td>\n",
              "      <td>2019-02-07 10:44:00</td>\n",
              "      <td>2019-01-28</td>\n",
              "      <td>2019-01-31</td>\n",
              "      <td>Yes</td>\n",
              "      <td>Yes</td>\n",
              "      <td>Yes</td>\n",
              "      <td>2019-02-07 10:44:00</td>\n",
              "      <td>2019-01-31</td>\n",
              "      <td>2019-01-30 17:48:00</td>\n",
              "      <td>Closed</td>\n",
              "      <td>Benefits</td>\n",
              "      <td>Minor Request</td>\n",
              "      <td>Email</td>\n",
              "    </tr>\n",
              "  </tbody>\n",
              "</table>\n",
              "</div>"
            ],
            "text/plain": [
              "       Case: Case Number  ... Case: Case Origin\n",
              "63475            5350199  ...             Email\n",
              "63476            3363699  ...             Email\n",
              "63477            3384229  ...             Email\n",
              "63478            3391084  ...             Email\n",
              "63479            3369064  ...             Email\n",
              "63480            3370001  ...             Email\n",
              "63481            3641673  ...             Email\n",
              "63482            3648849  ...             Email\n",
              "63483            3804989  ...             Email\n",
              "63484            3815677  ...             Email\n",
              "\n",
              "[10 rows x 42 columns]"
            ]
          },
          "metadata": {
            "tags": []
          },
          "execution_count": 7
        }
      ]
    },
    {
      "cell_type": "code",
      "metadata": {
        "id": "aHLyT4yxTa_N",
        "colab_type": "code",
        "colab": {
          "base_uri": "https://localhost:8080/",
          "height": 221
        },
        "outputId": "67194fbe-8107-44a9-c11f-6f26434cc706"
      },
      "source": [
        "dfCase['Case: Market Segment'].unique"
      ],
      "execution_count": 24,
      "outputs": [
        {
          "output_type": "execute_result",
          "data": {
            "text/plain": [
              "<bound method Series.unique of 0        Health Plan\n",
              "1        Health Plan\n",
              "2        Health Plan\n",
              "3        Health Plan\n",
              "4        Health Plan\n",
              "            ...     \n",
              "63480    Health Plan\n",
              "63481    Health Plan\n",
              "63482    Health Plan\n",
              "63483    Health Plan\n",
              "63484    Health Plan\n",
              "Name: Case: Market Segment, Length: 63485, dtype: object>"
            ]
          },
          "metadata": {
            "tags": []
          },
          "execution_count": 24
        }
      ]
    },
    {
      "cell_type": "code",
      "metadata": {
        "id": "35gPt1SCRbn4",
        "colab_type": "code",
        "colab": {
          "base_uri": "https://localhost:8080/",
          "height": 836
        },
        "outputId": "86a766ca-c369-4bc3-fc1a-b8fa48aa43d8"
      },
      "source": [
        "# Let's see how many null elements are contained in the data\n",
        "plt.figure(figsize=(10,10))\n",
        "sns.heatmap(dfCase.isnull(), cbar = False, cmap = 'YlGnBu')"
      ],
      "execution_count": 19,
      "outputs": [
        {
          "output_type": "execute_result",
          "data": {
            "text/plain": [
              "<matplotlib.axes._subplots.AxesSubplot at 0x7f6e7b5c8fd0>"
            ]
          },
          "metadata": {
            "tags": []
          },
          "execution_count": 19
        },
        {
          "output_type": "display_data",
          "data": {
            "image/png": "[encoded data removed]",
            "text/plain": [
              "<Figure size 720x720 with 1 Axes>"
            ]
          },
          "metadata": {
            "tags": [],
            "needs_background": "light"
          }
        }
      ]
    },
    {
      "cell_type": "code",
      "metadata": {
        "id": "lmwj7QGMUOBG",
        "colab_type": "code",
        "colab": {
          "base_uri": "https://localhost:8080/",
          "height": 731
        },
        "outputId": "192b3f73-6087-4203-be86-077fa8cfdd53"
      },
      "source": [
        "list(dfCase.columns)"
      ],
      "execution_count": 23,
      "outputs": [
        {
          "output_type": "execute_result",
          "data": {
            "text/plain": [
              "['Case: Case Number',\n",
              " 'Case: Case Status',\n",
              " 'Benefit Test Type',\n",
              " 'Benefit Test Count',\n",
              " 'Case: Client Commitment Date',\n",
              " 'Effective Date',\n",
              " 'Case: Date/Time Opened',\n",
              " 'Case: Submitted Date',\n",
              " 'Case: Subject',\n",
              " 'WA Owner Manager',\n",
              " 'Work Assignment: Owner Name',\n",
              " 'Case: Market Segment',\n",
              " 'Business Area',\n",
              " 'Case: Level of Difficulty',\n",
              " 'Case: Age (In Days) Calendar',\n",
              " 'Client Name',\n",
              " 'Case: Super Client',\n",
              " 'Work Assignment: Workflow Assignment Name',\n",
              " 'Case: Description',\n",
              " 'Case: # of Plans Affected',\n",
              " 'Case: Request Type',\n",
              " 'Case: Related to a Project',\n",
              " 'Work Assignment: Record Type',\n",
              " 'Priority',\n",
              " 'Work Assignment: Created By',\n",
              " 'Platform ID',\n",
              " 'Actual Hours of Effort',\n",
              " 'Work Assignment: Created Date',\n",
              " 'Work Assignment: Last Modified Date',\n",
              " 'Case: Case Date/Time Last Modified',\n",
              " 'Target Completion Date',\n",
              " 'Case: Testing Target Completion Date',\n",
              " 'Case: Met Coding TCD',\n",
              " 'Case: Met Testing TCD',\n",
              " 'Case: Met Client Commitment Date',\n",
              " 'Case: Date/Time Closed',\n",
              " 'Case: In Production Date',\n",
              " 'Actual End Date',\n",
              " 'Status',\n",
              " 'Case: Classification',\n",
              " 'Case: Source Type',\n",
              " 'Case: Case Origin']"
            ]
          },
          "metadata": {
            "tags": []
          },
          "execution_count": 23
        }
      ]
    },
    {
      "cell_type": "code",
      "metadata": {
        "id": "_LTLgRyTTDIM",
        "colab_type": "code",
        "colab": {}
      },
      "source": [
        "# ID Case Number Date Block IUCR Primary Type Description Location Description Arrest Domestic Beat District Ward Community Area FBI Code X Coordinate Y Coordinate Year Updated On Latitude Longitude Location\n",
        "dfCase.drop(['Case: Case Number',\n",
        " 'Benefit Test Type',\n",
        " 'Benefit Test Count',\n",
        " 'Case: Client Commitment Date',\n",
        " 'Effective Date',\n",
        " 'Case: Date/Time Opened',\n",
        " 'Case: Subject',\n",
        " 'WA Owner Manager',\n",
        " 'Work Assignment: Owner Name',\n",
        " 'Case: Market Segment',\n",
        " 'Client Name',\n",
        " 'Case: Super Client',\n",
        " 'Work Assignment: Workflow Assignment Name',\n",
        " 'Case: Description',\n",
        " 'Case: # of Plans Affected',\n",
        " 'Case: Request Type',\n",
        " 'Case: Related to a Project',\n",
        " 'Work Assignment: Record Type',\n",
        " 'Priority',\n",
        " 'Work Assignment: Created By',\n",
        " 'Platform ID',\n",
        " 'Actual Hours of Effort',\n",
        " 'Work Assignment: Created Date',\n",
        " 'Work Assignment: Last Modified Date',\n",
        " 'Case: Case Date/Time Last Modified',\n",
        " 'Target Completion Date',\n",
        " 'Case: Testing Target Completion Date',\n",
        " 'Case: Met Coding TCD',\n",
        " 'Case: Met Testing TCD',\n",
        " 'Case: Met Client Commitment Date',\n",
        " 'Case: Date/Time Closed',\n",
        " 'Case: In Production Date',\n",
        " 'Actual End Date',\n",
        " 'Case: Classification',\n",
        " 'Case: Source Type',\n",
        " 'Case: Case Origin'], inplace=True, axis=1)"
      ],
      "execution_count": 25,
      "outputs": []
    },
    {
      "cell_type": "code",
      "metadata": {
        "id": "_Nfbc1JCVpy2",
        "colab_type": "code",
        "colab": {
          "base_uri": "https://localhost:8080/",
          "height": 204
        },
        "outputId": "d7e92e7c-9905-447c-c1df-25465f070ec4"
      },
      "source": [
        "dfCase.head(5)"
      ],
      "execution_count": 29,
      "outputs": [
        {
          "output_type": "execute_result",
          "data": {
            "text/html": [
              "<div>\n",
              "<style scoped>\n",
              "    .dataframe tbody tr th:only-of-type {\n",
              "        vertical-align: middle;\n",
              "    }\n",
              "\n",
              "    .dataframe tbody tr th {\n",
              "        vertical-align: top;\n",
              "    }\n",
              "\n",
              "    .dataframe thead th {\n",
              "        text-align: right;\n",
              "    }\n",
              "</style>\n",
              "<table border=\"1\" class=\"dataframe\">\n",
              "  <thead>\n",
              "    <tr style=\"text-align: right;\">\n",
              "      <th></th>\n",
              "      <th>Case: Case Status</th>\n",
              "      <th>Effective Date</th>\n",
              "      <th>Business Area</th>\n",
              "      <th>Case: Level of Difficulty</th>\n",
              "      <th>Case: Age (In Days) Calendar</th>\n",
              "      <th>Status</th>\n",
              "    </tr>\n",
              "  </thead>\n",
              "  <tbody>\n",
              "    <tr>\n",
              "      <th>0</th>\n",
              "      <td>Closed</td>\n",
              "      <td>2019-07-01</td>\n",
              "      <td>HPCST-COMM</td>\n",
              "      <td>Level 3</td>\n",
              "      <td>40</td>\n",
              "      <td>Closed</td>\n",
              "    </tr>\n",
              "    <tr>\n",
              "      <th>1</th>\n",
              "      <td>Closed</td>\n",
              "      <td>2019-01-01</td>\n",
              "      <td>HPCST-MEDD</td>\n",
              "      <td>Level 3</td>\n",
              "      <td>2</td>\n",
              "      <td>Closed</td>\n",
              "    </tr>\n",
              "    <tr>\n",
              "      <th>2</th>\n",
              "      <td>Closed</td>\n",
              "      <td>2019-02-01</td>\n",
              "      <td>HPCST-COMM</td>\n",
              "      <td>Level 3</td>\n",
              "      <td>8</td>\n",
              "      <td>Closed</td>\n",
              "    </tr>\n",
              "    <tr>\n",
              "      <th>3</th>\n",
              "      <td>Closed</td>\n",
              "      <td>2019-03-01</td>\n",
              "      <td>HPCST-MEDD</td>\n",
              "      <td>Level 3</td>\n",
              "      <td>4</td>\n",
              "      <td>Closed</td>\n",
              "    </tr>\n",
              "    <tr>\n",
              "      <th>4</th>\n",
              "      <td>Closed</td>\n",
              "      <td>2019-02-28</td>\n",
              "      <td>HPCST-MEDICAID</td>\n",
              "      <td>Level 3</td>\n",
              "      <td>4</td>\n",
              "      <td>Closed</td>\n",
              "    </tr>\n",
              "  </tbody>\n",
              "</table>\n",
              "</div>"
            ],
            "text/plain": [
              "  Case: Case Status Effective Date  ... Case: Age (In Days) Calendar  Status\n",
              "0            Closed     2019-07-01  ...                           40  Closed\n",
              "1            Closed     2019-01-01  ...                            2  Closed\n",
              "2            Closed     2019-02-01  ...                            8  Closed\n",
              "3            Closed     2019-03-01  ...                            4  Closed\n",
              "4            Closed     2019-02-28  ...                            4  Closed\n",
              "\n",
              "[5 rows x 6 columns]"
            ]
          },
          "metadata": {
            "tags": []
          },
          "execution_count": 29
        }
      ]
    },
    {
      "cell_type": "code",
      "metadata": {
        "id": "HJ4y4vQWVs2M",
        "colab_type": "code",
        "colab": {
          "base_uri": "https://localhost:8080/",
          "height": 68
        },
        "outputId": "909a88ae-ac66-40e1-b3ba-17f17c659518"
      },
      "source": [
        "dfCase.columns"
      ],
      "execution_count": 30,
      "outputs": [
        {
          "output_type": "execute_result",
          "data": {
            "text/plain": [
              "Index(['Case: Case Status', 'Effective Date', 'Business Area',\n",
              "       'Case: Level of Difficulty', 'Case: Age (In Days) Calendar', 'Status'],\n",
              "      dtype='object')"
            ]
          },
          "metadata": {
            "tags": []
          },
          "execution_count": 30
        }
      ]
    },
    {
      "cell_type": "code",
      "metadata": {
        "id": "vCxcKho1XOVL",
        "colab_type": "code",
        "colab": {}
      },
      "source": [
        "dfCase.columns = ['CaseStatus','EffectiveDate','BusinessArea','CaseLevelOfDifficulty','CaseAgeInCalendarDays','Status']"
      ],
      "execution_count": 31,
      "outputs": []
    },
    {
      "cell_type": "code",
      "metadata": {
        "id": "dlHDVia4Xhjm",
        "colab_type": "code",
        "colab": {}
      },
      "source": [
        "dfCase.EffectiveDate = pd.to_datetime(dfCase.EffectiveDate, format='%m-%d-%Y')"
      ],
      "execution_count": 33,
      "outputs": []
    },
    {
      "cell_type": "code",
      "metadata": {
        "id": "V0ltWVPSaRBr",
        "colab_type": "code",
        "colab": {}
      },
      "source": [
        "# setting the index to be the date \n",
        "dfCase.index = pd.DatetimeIndex(dfCase.EffectiveDate)"
      ],
      "execution_count": 43,
      "outputs": []
    },
    {
      "cell_type": "code",
      "metadata": {
        "id": "_e6CMEgEXivm",
        "colab_type": "code",
        "colab": {
          "base_uri": "https://localhost:8080/",
          "height": 235
        },
        "outputId": "b2f064bc-cd1a-43ea-fd2b-4e670438ee58"
      },
      "source": [
        "dfCase.head()"
      ],
      "execution_count": 44,
      "outputs": [
        {
          "output_type": "execute_result",
          "data": {
            "text/html": [
              "<div>\n",
              "<style scoped>\n",
              "    .dataframe tbody tr th:only-of-type {\n",
              "        vertical-align: middle;\n",
              "    }\n",
              "\n",
              "    .dataframe tbody tr th {\n",
              "        vertical-align: top;\n",
              "    }\n",
              "\n",
              "    .dataframe thead th {\n",
              "        text-align: right;\n",
              "    }\n",
              "</style>\n",
              "<table border=\"1\" class=\"dataframe\">\n",
              "  <thead>\n",
              "    <tr style=\"text-align: right;\">\n",
              "      <th></th>\n",
              "      <th>CaseStatus</th>\n",
              "      <th>EffectiveDate</th>\n",
              "      <th>BusinessArea</th>\n",
              "      <th>CaseLevelOfDifficulty</th>\n",
              "      <th>CaseAgeInCalendarDays</th>\n",
              "      <th>Status</th>\n",
              "    </tr>\n",
              "    <tr>\n",
              "      <th>EffectiveDate</th>\n",
              "      <th></th>\n",
              "      <th></th>\n",
              "      <th></th>\n",
              "      <th></th>\n",
              "      <th></th>\n",
              "      <th></th>\n",
              "    </tr>\n",
              "  </thead>\n",
              "  <tbody>\n",
              "    <tr>\n",
              "      <th>2019-07-01</th>\n",
              "      <td>Closed</td>\n",
              "      <td>2019-07-01</td>\n",
              "      <td>HPCST-COMM</td>\n",
              "      <td>Level 3</td>\n",
              "      <td>40</td>\n",
              "      <td>Closed</td>\n",
              "    </tr>\n",
              "    <tr>\n",
              "      <th>2019-01-01</th>\n",
              "      <td>Closed</td>\n",
              "      <td>2019-01-01</td>\n",
              "      <td>HPCST-MEDD</td>\n",
              "      <td>Level 3</td>\n",
              "      <td>2</td>\n",
              "      <td>Closed</td>\n",
              "    </tr>\n",
              "    <tr>\n",
              "      <th>2019-02-01</th>\n",
              "      <td>Closed</td>\n",
              "      <td>2019-02-01</td>\n",
              "      <td>HPCST-COMM</td>\n",
              "      <td>Level 3</td>\n",
              "      <td>8</td>\n",
              "      <td>Closed</td>\n",
              "    </tr>\n",
              "    <tr>\n",
              "      <th>2019-03-01</th>\n",
              "      <td>Closed</td>\n",
              "      <td>2019-03-01</td>\n",
              "      <td>HPCST-MEDD</td>\n",
              "      <td>Level 3</td>\n",
              "      <td>4</td>\n",
              "      <td>Closed</td>\n",
              "    </tr>\n",
              "    <tr>\n",
              "      <th>2019-02-28</th>\n",
              "      <td>Closed</td>\n",
              "      <td>2019-02-28</td>\n",
              "      <td>HPCST-MEDICAID</td>\n",
              "      <td>Level 3</td>\n",
              "      <td>4</td>\n",
              "      <td>Closed</td>\n",
              "    </tr>\n",
              "  </tbody>\n",
              "</table>\n",
              "</div>"
            ],
            "text/plain": [
              "              CaseStatus EffectiveDate  ... CaseAgeInCalendarDays  Status\n",
              "EffectiveDate                           ...                              \n",
              "2019-07-01        Closed    2019-07-01  ...                    40  Closed\n",
              "2019-01-01        Closed    2019-01-01  ...                     2  Closed\n",
              "2019-02-01        Closed    2019-02-01  ...                     8  Closed\n",
              "2019-03-01        Closed    2019-03-01  ...                     4  Closed\n",
              "2019-02-28        Closed    2019-02-28  ...                     4  Closed\n",
              "\n",
              "[5 rows x 6 columns]"
            ]
          },
          "metadata": {
            "tags": []
          },
          "execution_count": 44
        }
      ]
    },
    {
      "cell_type": "code",
      "metadata": {
        "id": "RetNKsVAX26H",
        "colab_type": "code",
        "colab": {
          "base_uri": "https://localhost:8080/",
          "height": 170
        },
        "outputId": "0694f0ca-5410-4c85-bb4a-46d7a545b7cc"
      },
      "source": [
        "dfCase['BusinessArea'].value_counts()"
      ],
      "execution_count": 45,
      "outputs": [
        {
          "output_type": "execute_result",
          "data": {
            "text/plain": [
              "HPCST-COMM          35510\n",
              "HPCST-MEDICAID      12388\n",
              "HPCST-EXCH           7184\n",
              "HPCST-MEDD           7073\n",
              "HPCST-MEDD-DUALS      543\n",
              "HPCST-STCOB           479\n",
              "HPCST-BLUES           306\n",
              "HPCST                   2\n",
              "Name: BusinessArea, dtype: int64"
            ]
          },
          "metadata": {
            "tags": []
          },
          "execution_count": 45
        }
      ]
    },
    {
      "cell_type": "code",
      "metadata": {
        "id": "8692iQ79YUBk",
        "colab_type": "code",
        "colab": {
          "base_uri": "https://localhost:8080/",
          "height": 85
        },
        "outputId": "428d0695-f491-4aae-9b51-38267351f7cc"
      },
      "source": [
        "dfCase['CaseLevelOfDifficulty'].value_counts()"
      ],
      "execution_count": 46,
      "outputs": [
        {
          "output_type": "execute_result",
          "data": {
            "text/plain": [
              "Level 3    58769\n",
              "Level 2     2621\n",
              "Level 1     1961\n",
              "Name: CaseLevelOfDifficulty, dtype: int64"
            ]
          },
          "metadata": {
            "tags": []
          },
          "execution_count": 46
        }
      ]
    },
    {
      "cell_type": "code",
      "metadata": {
        "id": "jVfZrpBsYYsz",
        "colab_type": "code",
        "colab": {
          "base_uri": "https://localhost:8080/",
          "height": 170
        },
        "outputId": "c7eeaa1f-096b-434d-e287-e9885aec99eb"
      },
      "source": [
        "dfCase['CaseStatus'].value_counts()"
      ],
      "execution_count": 47,
      "outputs": [
        {
          "output_type": "execute_result",
          "data": {
            "text/plain": [
              "Closed                           62921\n",
              "Final Review                       407\n",
              "Review                              55\n",
              "Pended                              55\n",
              "Test Checkpoint                     32\n",
              "Test                                 6\n",
              "Unpended                             5\n",
              "Cancellation Review Requested        4\n",
              "Name: CaseStatus, dtype: int64"
            ]
          },
          "metadata": {
            "tags": []
          },
          "execution_count": 47
        }
      ]
    },
    {
      "cell_type": "code",
      "metadata": {
        "id": "6Rh3Y4UTYn8L",
        "colab_type": "code",
        "colab": {
          "base_uri": "https://localhost:8080/",
          "height": 68
        },
        "outputId": "5ef6f41a-0422-4603-b502-d751a162ceee"
      },
      "source": [
        "dfCase['BusinessArea'].value_counts().iloc[:].index"
      ],
      "execution_count": 48,
      "outputs": [
        {
          "output_type": "execute_result",
          "data": {
            "text/plain": [
              "Index(['HPCST-COMM', 'HPCST-MEDICAID', 'HPCST-EXCH', 'HPCST-MEDD',\n",
              "       'HPCST-MEDD-DUALS', 'HPCST-STCOB', 'HPCST-BLUES', 'HPCST'],\n",
              "      dtype='object')"
            ]
          },
          "metadata": {
            "tags": []
          },
          "execution_count": 48
        }
      ]
    },
    {
      "cell_type": "code",
      "metadata": {
        "id": "M9RQqm4UZUCs",
        "colab_type": "code",
        "colab": {
          "base_uri": "https://localhost:8080/",
          "height": 623
        },
        "outputId": "2a54d05e-5470-43ef-d619-c1e77a89ea26"
      },
      "source": [
        "plt.figure(figsize = (15, 10))\n",
        "sns.countplot(y= 'BusinessArea', data = dfCase, order = dfCase['BusinessArea'].value_counts().iloc[:].index)"
      ],
      "execution_count": 49,
      "outputs": [
        {
          "output_type": "execute_result",
          "data": {
            "text/plain": [
              "<matplotlib.axes._subplots.AxesSubplot at 0x7f6e75e688d0>"
            ]
          },
          "metadata": {
            "tags": []
          },
          "execution_count": 49
        },
        {
          "output_type": "display_data",
          "data": {
            "image/png": "[encoded data removed]",
            "text/plain": [
              "<Figure size 1080x720 with 1 Axes>"
            ]
          },
          "metadata": {
            "tags": [],
            "needs_background": "light"
          }
        }
      ]
    },
    {
      "cell_type": "code",
      "metadata": {
        "id": "xyGpkLswZeFN",
        "colab_type": "code",
        "colab": {
          "base_uri": "https://localhost:8080/",
          "height": 623
        },
        "outputId": "be3efed0-4dce-419b-9723-0bd93c55c533"
      },
      "source": [
        "plt.figure(figsize = (15, 10))\n",
        "sns.countplot(y= 'CaseLevelOfDifficulty', data = dfCase, order = dfCase['CaseLevelOfDifficulty'].value_counts().iloc[:].index)"
      ],
      "execution_count": 50,
      "outputs": [
        {
          "output_type": "execute_result",
          "data": {
            "text/plain": [
              "<matplotlib.axes._subplots.AxesSubplot at 0x7f6e75e440b8>"
            ]
          },
          "metadata": {
            "tags": []
          },
          "execution_count": 50
        },
        {
          "output_type": "display_data",
          "data": {
            "image/png": "[encoded data removed]",
            "text/plain": [
              "<Figure size 1080x720 with 1 Axes>"
            ]
          },
          "metadata": {
            "tags": [],
            "needs_background": "light"
          }
        }
      ]
    },
    {
      "cell_type": "code",
      "metadata": {
        "id": "wEw8Yny1ZtNX",
        "colab_type": "code",
        "colab": {
          "base_uri": "https://localhost:8080/",
          "height": 238
        },
        "outputId": "b7c0e3a7-9df3-4995-8b6c-69b407d519ee"
      },
      "source": [
        "dfCase.resample('Y').size()"
      ],
      "execution_count": 51,
      "outputs": [
        {
          "output_type": "execute_result",
          "data": {
            "text/plain": [
              "EffectiveDate\n",
              "1900-12-31    2\n",
              "1901-12-31    0\n",
              "1902-12-31    0\n",
              "1903-12-31    0\n",
              "1904-12-31    0\n",
              "             ..\n",
              "2215-12-31    0\n",
              "2216-12-31    0\n",
              "2217-12-31    0\n",
              "2218-12-31    0\n",
              "2219-12-31    2\n",
              "Length: 320, dtype: int64"
            ]
          },
          "metadata": {
            "tags": []
          },
          "execution_count": 51
        }
      ]
    },
    {
      "cell_type": "code",
      "metadata": {
        "id": "y0NJQ14carBy",
        "colab_type": "code",
        "colab": {}
      },
      "source": [
        ""
      ],
      "execution_count": null,
      "outputs": []
    }
  ]
}