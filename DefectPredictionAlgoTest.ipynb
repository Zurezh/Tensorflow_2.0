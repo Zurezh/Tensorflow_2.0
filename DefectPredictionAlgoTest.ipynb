{
  "nbformat": 4,
  "nbformat_minor": 0,
  "metadata": {
    "colab": {
      "name": "DefectPredictionAlgoTest.ipynb",
      "provenance": [],
      "authorship_tag": "ABX9TyO/uQQ/30DVll3OFCnN2YoP",
      "include_colab_link": true
    },
    "kernelspec": {
      "name": "python3",
      "display_name": "Python 3"
    }
  },
  "cells": [
    {
      "cell_type": "markdown",
      "metadata": {
        "id": "view-in-github",
        "colab_type": "text"
      },
      "source": [
        "<a href=\"https://colab.research.google.com/github/sureshmanem/Tensorflow_2.0/blob/master/DefectPredictionAlgoTest.ipynb\" target=\"_parent\"><img src=\"https://colab.research.google.com/assets/colab-badge.svg\" alt=\"Open In Colab\"/></a>"
      ]
    },
    {
      "cell_type": "code",
      "metadata": {
        "id": "74-AlVtuR_wN",
        "colab_type": "code",
        "colab": {
          "base_uri": "https://localhost:8080/",
          "height": 71
        },
        "outputId": "91b79c4f-08d4-4a6c-9be2-6131be1e9420"
      },
      "source": [
        "import numpy as np\n",
        "import pandas as pd\n",
        "import seaborn as sns\n",
        "import tensorflow as tf\n",
        "import tensorflow.keras as keras\n",
        "from tensorflow.keras.layers import Dense, Bidirectional,LSTM, Lambda, Conv1D\n",
        "import datetime\n",
        "import matplotlib.pyplot as plt\n",
        "import warnings\n",
        "from fbprophet import Prophet\n",
        "warnings.filterwarnings('ignore')"
      ],
      "execution_count": 1,
      "outputs": [
        {
          "output_type": "stream",
          "text": [
            "/usr/local/lib/python3.6/dist-packages/statsmodels/tools/_testing.py:19: FutureWarning: pandas.util.testing is deprecated. Use the functions in the public API at pandas.testing instead.\n",
            "  import pandas.util.testing as tm\n"
          ],
          "name": "stderr"
        }
      ]
    },
    {
      "cell_type": "code",
      "metadata": {
        "id": "yC_UQMYzSpmH",
        "colab_type": "code",
        "colab": {}
      },
      "source": [
        "dfCase = pd.read_excel(r'https://github.com/sureshmanem/Tensorflow_2.0/blob/master/Case_cvs.xlsx?raw=true')"
      ],
      "execution_count": 2,
      "outputs": []
    },
    {
      "cell_type": "code",
      "metadata": {
        "id": "m0B590OdTfxx",
        "colab_type": "code",
        "colab": {
          "base_uri": "https://localhost:8080/",
          "height": 889
        },
        "outputId": "2a353764-b77d-423e-d052-b99592d6bb9b"
      },
      "source": [
        "dfCase.head(10)"
      ],
      "execution_count": 3,
      "outputs": [
        {
          "output_type": "execute_result",
          "data": {
            "text/html": [
              "<div>\n",
              "<style scoped>\n",
              "    .dataframe tbody tr th:only-of-type {\n",
              "        vertical-align: middle;\n",
              "    }\n",
              "\n",
              "    .dataframe tbody tr th {\n",
              "        vertical-align: top;\n",
              "    }\n",
              "\n",
              "    .dataframe thead th {\n",
              "        text-align: right;\n",
              "    }\n",
              "</style>\n",
              "<table border=\"1\" class=\"dataframe\">\n",
              "  <thead>\n",
              "    <tr style=\"text-align: right;\">\n",
              "      <th></th>\n",
              "      <th>Case: Case Number</th>\n",
              "      <th>Case: Case Status</th>\n",
              "      <th>Benefit Test Type</th>\n",
              "      <th>Benefit Test Count</th>\n",
              "      <th>Case: Client Commitment Date</th>\n",
              "      <th>Effective Date</th>\n",
              "      <th>Case: Date/Time Opened</th>\n",
              "      <th>Case: Submitted Date</th>\n",
              "      <th>Case: Subject</th>\n",
              "      <th>WA Owner Manager</th>\n",
              "      <th>Work Assignment: Owner Name</th>\n",
              "      <th>Case: Market Segment</th>\n",
              "      <th>Business Area</th>\n",
              "      <th>Case: Level of Difficulty</th>\n",
              "      <th>Case: Age (In Days) Calendar</th>\n",
              "      <th>Client Name</th>\n",
              "      <th>Case: Super Client</th>\n",
              "      <th>Work Assignment: Workflow Assignment Name</th>\n",
              "      <th>Case: Description</th>\n",
              "      <th>Case: # of Plans Affected</th>\n",
              "      <th>Case: Request Type</th>\n",
              "      <th>Case: Related to a Project</th>\n",
              "      <th>Work Assignment: Record Type</th>\n",
              "      <th>Priority</th>\n",
              "      <th>Work Assignment: Created By</th>\n",
              "      <th>Platform ID</th>\n",
              "      <th>Actual Hours of Effort</th>\n",
              "      <th>Work Assignment: Created Date</th>\n",
              "      <th>Work Assignment: Last Modified Date</th>\n",
              "      <th>Case: Case Date/Time Last Modified</th>\n",
              "      <th>Target Completion Date</th>\n",
              "      <th>Case: Testing Target Completion Date</th>\n",
              "      <th>Case: Met Coding TCD</th>\n",
              "      <th>Case: Met Testing TCD</th>\n",
              "      <th>Case: Met Client Commitment Date</th>\n",
              "      <th>Case: Date/Time Closed</th>\n",
              "      <th>Case: In Production Date</th>\n",
              "      <th>Actual End Date</th>\n",
              "      <th>Status</th>\n",
              "      <th>Case: Classification</th>\n",
              "      <th>Case: Source Type</th>\n",
              "      <th>Case: Case Origin</th>\n",
              "    </tr>\n",
              "  </thead>\n",
              "  <tbody>\n",
              "    <tr>\n",
              "      <th>0</th>\n",
              "      <td>4317814</td>\n",
              "      <td>Closed</td>\n",
              "      <td>NaN</td>\n",
              "      <td>NaN</td>\n",
              "      <td>2019-07-01</td>\n",
              "      <td>2019-07-01</td>\n",
              "      <td>2019-05-16 15:19:00</td>\n",
              "      <td>2019-06-25 15:35:00</td>\n",
              "      <td>Baptist Homes Update</td>\n",
              "      <td>Samuel Cormaty</td>\n",
              "      <td>Suchendra Babu Penjuri</td>\n",
              "      <td>Health Plan</td>\n",
              "      <td>HPCST-COMM</td>\n",
              "      <td>Level 3</td>\n",
              "      <td>40</td>\n",
              "      <td>ProAct1</td>\n",
              "      <td>ProAct</td>\n",
              "      <td>QA Design - Baptist Homes Update</td>\n",
              "      <td>Removing co-payments and adding specialty Coin...</td>\n",
              "      <td>1.0</td>\n",
              "      <td>Client Created</td>\n",
              "      <td>0</td>\n",
              "      <td>Parallel Work Assignment</td>\n",
              "      <td>Normal</td>\n",
              "      <td>Michelle Jill</td>\n",
              "      <td>2996</td>\n",
              "      <td>1.0</td>\n",
              "      <td>2019-06-25</td>\n",
              "      <td>2019-06-25</td>\n",
              "      <td>2019-06-25 15:44:00</td>\n",
              "      <td>NaT</td>\n",
              "      <td>NaT</td>\n",
              "      <td>NaN</td>\n",
              "      <td>NaN</td>\n",
              "      <td>Yes</td>\n",
              "      <td>2019-06-25 15:44:00</td>\n",
              "      <td>2019-06-25</td>\n",
              "      <td>2019-06-25 15:38:00</td>\n",
              "      <td>Closed</td>\n",
              "      <td>Benefits</td>\n",
              "      <td>New Business Implementation</td>\n",
              "      <td>Email</td>\n",
              "    </tr>\n",
              "    <tr>\n",
              "      <th>1</th>\n",
              "      <td>4008180</td>\n",
              "      <td>Closed</td>\n",
              "      <td>NaN</td>\n",
              "      <td>NaN</td>\n",
              "      <td>2019-01-11</td>\n",
              "      <td>2019-01-01</td>\n",
              "      <td>2019-01-07 16:18:00</td>\n",
              "      <td>2019-01-07 16:18:00</td>\n",
              "      <td>CCO: Vicodin Remove DDL EGWP</td>\n",
              "      <td>Shalin Nath</td>\n",
              "      <td>Saranya Selvaraj</td>\n",
              "      <td>Health Plan</td>\n",
              "      <td>HPCST-MEDD</td>\n",
              "      <td>Level 3</td>\n",
              "      <td>2</td>\n",
              "      <td>MVP MEDICARE D HMO WEST</td>\n",
              "      <td>MVP Health Plan, Inc.</td>\n",
              "      <td>QA Design - CCO: Vicodin Remove DDL EGWP</td>\n",
              "      <td>Please remove the DDL coding for Hydrocodone/A...</td>\n",
              "      <td>50.0</td>\n",
              "      <td>CCO-Clinical Benefits</td>\n",
              "      <td>0</td>\n",
              "      <td>Parallel Work Assignment</td>\n",
              "      <td>Urgent</td>\n",
              "      <td>Amanda Van Beekum</td>\n",
              "      <td>1501</td>\n",
              "      <td>1.0</td>\n",
              "      <td>2019-01-07</td>\n",
              "      <td>2019-01-09</td>\n",
              "      <td>2019-01-09 16:18:00</td>\n",
              "      <td>2019-01-08</td>\n",
              "      <td>2019-01-10</td>\n",
              "      <td>Yes</td>\n",
              "      <td>Yes</td>\n",
              "      <td>Yes</td>\n",
              "      <td>2019-01-09 16:18:00</td>\n",
              "      <td>2019-01-09</td>\n",
              "      <td>2019-01-09 13:00:00</td>\n",
              "      <td>Closed</td>\n",
              "      <td>CCO Clinical Benefits</td>\n",
              "      <td>Major Request</td>\n",
              "      <td>Email</td>\n",
              "    </tr>\n",
              "    <tr>\n",
              "      <th>2</th>\n",
              "      <td>4072187</td>\n",
              "      <td>Closed</td>\n",
              "      <td>NaN</td>\n",
              "      <td>NaN</td>\n",
              "      <td>2019-02-05</td>\n",
              "      <td>2019-02-01</td>\n",
              "      <td>2019-01-29 22:15:00</td>\n",
              "      <td>2019-01-29 22:15:00</td>\n",
              "      <td>MEDICA_MDHC42994</td>\n",
              "      <td>Samuel Cormaty</td>\n",
              "      <td>Jothi Priya Durairaj</td>\n",
              "      <td>Health Plan</td>\n",
              "      <td>HPCST-COMM</td>\n",
              "      <td>Level 3</td>\n",
              "      <td>8</td>\n",
              "      <td>COMM LARGE GROUP MIC MN</td>\n",
              "      <td>Medica Health Plans</td>\n",
              "      <td>QA Design - MEDICA_MDHC42994</td>\n",
              "      <td>MEDICA_MDHC42994</td>\n",
              "      <td>1.0</td>\n",
              "      <td>Benefit Builder</td>\n",
              "      <td>0</td>\n",
              "      <td>Parallel Work Assignment</td>\n",
              "      <td>Normal</td>\n",
              "      <td>Integration Benefit Builder</td>\n",
              "      <td>0281</td>\n",
              "      <td>2.0</td>\n",
              "      <td>2019-01-29</td>\n",
              "      <td>2019-01-31</td>\n",
              "      <td>2019-02-06 16:31:00</td>\n",
              "      <td>2019-01-31</td>\n",
              "      <td>2019-02-04</td>\n",
              "      <td>Yes</td>\n",
              "      <td>Yes</td>\n",
              "      <td>Yes</td>\n",
              "      <td>2019-02-06 16:31:00</td>\n",
              "      <td>2019-02-01</td>\n",
              "      <td>2019-01-31 10:36:00</td>\n",
              "      <td>Closed</td>\n",
              "      <td>Benefits</td>\n",
              "      <td>Minor Request</td>\n",
              "      <td>Email</td>\n",
              "    </tr>\n",
              "    <tr>\n",
              "      <th>3</th>\n",
              "      <td>4113046</td>\n",
              "      <td>Closed</td>\n",
              "      <td>NaN</td>\n",
              "      <td>NaN</td>\n",
              "      <td>2019-02-25</td>\n",
              "      <td>2019-03-01</td>\n",
              "      <td>2019-02-18 11:45:00</td>\n",
              "      <td>2019-02-18 11:45:00</td>\n",
              "      <td>CBC 3/1 Alt TF Update</td>\n",
              "      <td>Samuel Cormaty</td>\n",
              "      <td>Suman Punuru</td>\n",
              "      <td>Health Plan</td>\n",
              "      <td>HPCST-MEDD</td>\n",
              "      <td>Level 3</td>\n",
              "      <td>4</td>\n",
              "      <td>Capital BlueCross</td>\n",
              "      <td>Capital BlueCross</td>\n",
              "      <td>QA Design - CBC 3/1 Alt TF Update</td>\n",
              "      <td>Alt TF update Effective 3/1. Please run attach...</td>\n",
              "      <td>1.0</td>\n",
              "      <td>CCO-Clinical Benefits</td>\n",
              "      <td>0</td>\n",
              "      <td>Parallel Work Assignment</td>\n",
              "      <td>Normal</td>\n",
              "      <td>Aaron Peters</td>\n",
              "      <td>8600</td>\n",
              "      <td>1.0</td>\n",
              "      <td>2019-02-18</td>\n",
              "      <td>2019-02-21</td>\n",
              "      <td>2019-02-22 12:37:00</td>\n",
              "      <td>2019-02-19</td>\n",
              "      <td>2019-02-22</td>\n",
              "      <td>Yes</td>\n",
              "      <td>Yes</td>\n",
              "      <td>Yes</td>\n",
              "      <td>2019-02-22 12:37:00</td>\n",
              "      <td>2019-02-22</td>\n",
              "      <td>2019-02-21 09:14:00</td>\n",
              "      <td>Closed</td>\n",
              "      <td>CCO Clinical Benefits</td>\n",
              "      <td>Major Request</td>\n",
              "      <td>Email</td>\n",
              "    </tr>\n",
              "    <tr>\n",
              "      <th>4</th>\n",
              "      <td>4162007</td>\n",
              "      <td>Closed</td>\n",
              "      <td>NaN</td>\n",
              "      <td>NaN</td>\n",
              "      <td>2019-03-12</td>\n",
              "      <td>2019-02-28</td>\n",
              "      <td>2019-03-10 19:15:00</td>\n",
              "      <td>2019-03-10 19:15:00</td>\n",
              "      <td>NE Weekly Formulary update 02-28</td>\n",
              "      <td>Shalin Nath</td>\n",
              "      <td>Kameswararao Indrakanti</td>\n",
              "      <td>Health Plan</td>\n",
              "      <td>HPCST-MEDICAID</td>\n",
              "      <td>Level 3</td>\n",
              "      <td>4</td>\n",
              "      <td>WellCare Nebraska Medicaid</td>\n",
              "      <td>WellCare</td>\n",
              "      <td>QA Design - NE Weekly Formulary update 02-28</td>\n",
              "      <td>NE Weekly Formulary update 02-28 See CI for Co...</td>\n",
              "      <td>1.0</td>\n",
              "      <td>Drug Coverage</td>\n",
              "      <td>0</td>\n",
              "      <td>Parallel Work Assignment</td>\n",
              "      <td>Urgent</td>\n",
              "      <td>Julie Simmons</td>\n",
              "      <td>8896</td>\n",
              "      <td>2.0</td>\n",
              "      <td>2019-03-10</td>\n",
              "      <td>2019-03-12</td>\n",
              "      <td>2019-03-14 14:13:00</td>\n",
              "      <td>2019-03-11</td>\n",
              "      <td>2019-03-12</td>\n",
              "      <td>Yes</td>\n",
              "      <td>Yes</td>\n",
              "      <td>Yes</td>\n",
              "      <td>2019-03-14 14:12:00</td>\n",
              "      <td>2019-03-12</td>\n",
              "      <td>2019-03-12 13:30:00</td>\n",
              "      <td>Closed</td>\n",
              "      <td>Benefits</td>\n",
              "      <td>Minor Request</td>\n",
              "      <td>Email</td>\n",
              "    </tr>\n",
              "    <tr>\n",
              "      <th>5</th>\n",
              "      <td>4207341</td>\n",
              "      <td>Closed</td>\n",
              "      <td>NaN</td>\n",
              "      <td>NaN</td>\n",
              "      <td>2019-04-02</td>\n",
              "      <td>2019-04-01</td>\n",
              "      <td>2019-03-29 12:13:00</td>\n",
              "      <td>2019-03-29 12:13:00</td>\n",
              "      <td>S040-AM0X BB</td>\n",
              "      <td>Samuel Cormaty</td>\n",
              "      <td>Karthikalakshmi Annamalai</td>\n",
              "      <td>Health Plan</td>\n",
              "      <td>HPCST-COMM</td>\n",
              "      <td>Level 3</td>\n",
              "      <td>3</td>\n",
              "      <td>TUFTS FULLY INS NON SAVER</td>\n",
              "      <td>Tufts Health Plan</td>\n",
              "      <td>QA Design - S040-AM0X BB</td>\n",
              "      <td>NEW BB</td>\n",
              "      <td>1.0</td>\n",
              "      <td>Benefit Builder; Integrated Accumulations; New...</td>\n",
              "      <td>0</td>\n",
              "      <td>Parallel Work Assignment</td>\n",
              "      <td>Normal</td>\n",
              "      <td>Integration Benefit Builder</td>\n",
              "      <td>7300</td>\n",
              "      <td>1.0</td>\n",
              "      <td>2019-03-29</td>\n",
              "      <td>2019-04-01</td>\n",
              "      <td>2019-04-01 11:05:00</td>\n",
              "      <td>2019-03-29</td>\n",
              "      <td>2019-04-01</td>\n",
              "      <td>Yes</td>\n",
              "      <td>Yes</td>\n",
              "      <td>Yes</td>\n",
              "      <td>2019-04-01 11:05:00</td>\n",
              "      <td>2019-04-01</td>\n",
              "      <td>2019-04-01 07:38:00</td>\n",
              "      <td>Closed</td>\n",
              "      <td>Benefits</td>\n",
              "      <td>Minor Request</td>\n",
              "      <td>Email</td>\n",
              "    </tr>\n",
              "    <tr>\n",
              "      <th>6</th>\n",
              "      <td>4251691</td>\n",
              "      <td>Closed</td>\n",
              "      <td>NaN</td>\n",
              "      <td>NaN</td>\n",
              "      <td>2019-04-30</td>\n",
              "      <td>2019-05-01</td>\n",
              "      <td>2019-04-17 12:13:00</td>\n",
              "      <td>2019-04-17 12:13:00</td>\n",
              "      <td>MOB_PacificSource MED D_NIF 88286- McK_Carrier...</td>\n",
              "      <td>Samuel Cormaty</td>\n",
              "      <td>Arun Prasad Kannan</td>\n",
              "      <td>Health Plan</td>\n",
              "      <td>HPCST-MEDD</td>\n",
              "      <td>Level 3</td>\n",
              "      <td>9</td>\n",
              "      <td>PacificSource Medicare</td>\n",
              "      <td>PacificSource Health Plans</td>\n",
              "      <td>QA Design - MOB_PacificSource MED D_NIF 88286-...</td>\n",
              "      <td>Update to NPP for ALF and LTC profiles ONLY. C...</td>\n",
              "      <td>3.0</td>\n",
              "      <td>Client Pricing (NIF – MEDD)</td>\n",
              "      <td>0</td>\n",
              "      <td>Parallel Work Assignment</td>\n",
              "      <td>Normal</td>\n",
              "      <td>Keith Lovett</td>\n",
              "      <td>6158</td>\n",
              "      <td>1.5</td>\n",
              "      <td>2019-04-17</td>\n",
              "      <td>2019-04-25</td>\n",
              "      <td>2019-04-26 14:28:00</td>\n",
              "      <td>2019-04-23</td>\n",
              "      <td>2019-04-29</td>\n",
              "      <td>Yes</td>\n",
              "      <td>Yes</td>\n",
              "      <td>Yes</td>\n",
              "      <td>2019-04-26 14:28:00</td>\n",
              "      <td>2019-04-26</td>\n",
              "      <td>2019-04-25 11:24:00</td>\n",
              "      <td>Closed</td>\n",
              "      <td>Benefits</td>\n",
              "      <td>Major Request</td>\n",
              "      <td>Email</td>\n",
              "    </tr>\n",
              "    <tr>\n",
              "      <th>7</th>\n",
              "      <td>4292379</td>\n",
              "      <td>Closed</td>\n",
              "      <td>NaN</td>\n",
              "      <td>NaN</td>\n",
              "      <td>2019-05-16</td>\n",
              "      <td>2019-06-01</td>\n",
              "      <td>2019-05-07 08:10:00</td>\n",
              "      <td>2019-05-07 08:10:00</td>\n",
              "      <td>BCBSSC HIX -6/1/2019 Business Blue Essentials ...</td>\n",
              "      <td>Samuel Cormaty</td>\n",
              "      <td>Vandhana Elangovan</td>\n",
              "      <td>Health Plan</td>\n",
              "      <td>HPCST-EXCH</td>\n",
              "      <td>Level 3</td>\n",
              "      <td>14</td>\n",
              "      <td>BCBSSC SHOP-Private</td>\n",
              "      <td>Blue Cross and Blue Shield of SC</td>\n",
              "      <td>QA Design - BCBSSC HIX -6/1/2019 Business Blue...</td>\n",
              "      <td>ZCVS30619 - new plan. Please see the attached ...</td>\n",
              "      <td>1.0</td>\n",
              "      <td>Copayment; Drug Coverage; Formulary</td>\n",
              "      <td>0</td>\n",
              "      <td>Parallel Work Assignment</td>\n",
              "      <td>Normal</td>\n",
              "      <td>Raechel Herrera</td>\n",
              "      <td>4241</td>\n",
              "      <td>2.0</td>\n",
              "      <td>2019-05-07</td>\n",
              "      <td>2019-05-15</td>\n",
              "      <td>2019-05-20 21:52:00</td>\n",
              "      <td>2019-05-13</td>\n",
              "      <td>2019-05-15</td>\n",
              "      <td>Yes</td>\n",
              "      <td>Yes</td>\n",
              "      <td>Yes</td>\n",
              "      <td>2019-05-20 21:52:00</td>\n",
              "      <td>2019-05-15</td>\n",
              "      <td>2019-05-15 08:34:00</td>\n",
              "      <td>Closed</td>\n",
              "      <td>Benefits</td>\n",
              "      <td>Minor Request</td>\n",
              "      <td>Email</td>\n",
              "    </tr>\n",
              "    <tr>\n",
              "      <th>8</th>\n",
              "      <td>4344672</td>\n",
              "      <td>Closed</td>\n",
              "      <td>NaN</td>\n",
              "      <td>NaN</td>\n",
              "      <td>2019-06-05</td>\n",
              "      <td>2019-06-01</td>\n",
              "      <td>2019-05-24 16:00:00</td>\n",
              "      <td>2019-05-24 16:00:00</td>\n",
              "      <td>DAK Mektovi Update</td>\n",
              "      <td>Shalin Nath</td>\n",
              "      <td>Gowtham C D</td>\n",
              "      <td>Health Plan</td>\n",
              "      <td>HPCST-COMM</td>\n",
              "      <td>Level 3</td>\n",
              "      <td>14</td>\n",
              "      <td>DAKOTACARE</td>\n",
              "      <td>DAKOTACARE</td>\n",
              "      <td>QA Design - DAK Mektovi Update</td>\n",
              "      <td>DAK Mektovi Update</td>\n",
              "      <td>0.0</td>\n",
              "      <td>CCO-Clinical Benefits</td>\n",
              "      <td>0</td>\n",
              "      <td>Parallel Work Assignment</td>\n",
              "      <td>Normal</td>\n",
              "      <td>James Direnzo</td>\n",
              "      <td>4330</td>\n",
              "      <td>2.0</td>\n",
              "      <td>2019-05-27</td>\n",
              "      <td>2019-05-31</td>\n",
              "      <td>2019-06-07 09:11:00</td>\n",
              "      <td>2019-05-30</td>\n",
              "      <td>2019-06-03</td>\n",
              "      <td>Yes</td>\n",
              "      <td>Yes</td>\n",
              "      <td>Yes</td>\n",
              "      <td>2019-06-07 09:11:00</td>\n",
              "      <td>2019-06-04</td>\n",
              "      <td>2019-05-31 08:30:00</td>\n",
              "      <td>Closed</td>\n",
              "      <td>CCO Clinical Benefits</td>\n",
              "      <td>Minor Request</td>\n",
              "      <td>Email</td>\n",
              "    </tr>\n",
              "    <tr>\n",
              "      <th>9</th>\n",
              "      <td>4400491</td>\n",
              "      <td>Closed</td>\n",
              "      <td>NaN</td>\n",
              "      <td>NaN</td>\n",
              "      <td>2019-06-25</td>\n",
              "      <td>2019-06-01</td>\n",
              "      <td>2019-06-14 09:15:00</td>\n",
              "      <td>2019-06-14 09:15:00</td>\n",
              "      <td>Change: Greenway Auto Chg Reqt SRCSEDTDU</td>\n",
              "      <td>Samuel Cormaty</td>\n",
              "      <td>Vandhana Elangovan</td>\n",
              "      <td>Health Plan</td>\n",
              "      <td>HPCST-COMM</td>\n",
              "      <td>Level 2</td>\n",
              "      <td>13</td>\n",
              "      <td>SC NA BCFL RSP Tier 5</td>\n",
              "      <td>Blue Cross and Blue Shield of SC</td>\n",
              "      <td>QA Design - Change: Greenway Auto Chg Reqt SRC...</td>\n",
              "      <td>please see attached</td>\n",
              "      <td>1.0</td>\n",
              "      <td>Accumulations; Copayment; Drug Coverage; Rx Da...</td>\n",
              "      <td>0</td>\n",
              "      <td>Parallel Work Assignment</td>\n",
              "      <td>Normal</td>\n",
              "      <td>Kristin Brost</td>\n",
              "      <td>4451</td>\n",
              "      <td>2.0</td>\n",
              "      <td>2019-06-14</td>\n",
              "      <td>2019-06-21</td>\n",
              "      <td>2019-06-27 19:24:00</td>\n",
              "      <td>2019-06-18</td>\n",
              "      <td>2019-06-21</td>\n",
              "      <td>Yes</td>\n",
              "      <td>Yes</td>\n",
              "      <td>Yes</td>\n",
              "      <td>2019-06-27 19:24:00</td>\n",
              "      <td>2019-06-25</td>\n",
              "      <td>2019-06-21 08:41:00</td>\n",
              "      <td>Closed</td>\n",
              "      <td>Benefits</td>\n",
              "      <td>Minor Request</td>\n",
              "      <td>Email</td>\n",
              "    </tr>\n",
              "  </tbody>\n",
              "</table>\n",
              "</div>"
            ],
            "text/plain": [
              "   Case: Case Number  ... Case: Case Origin\n",
              "0            4317814  ...             Email\n",
              "1            4008180  ...             Email\n",
              "2            4072187  ...             Email\n",
              "3            4113046  ...             Email\n",
              "4            4162007  ...             Email\n",
              "5            4207341  ...             Email\n",
              "6            4251691  ...             Email\n",
              "7            4292379  ...             Email\n",
              "8            4344672  ...             Email\n",
              "9            4400491  ...             Email\n",
              "\n",
              "[10 rows x 42 columns]"
            ]
          },
          "metadata": {
            "tags": []
          },
          "execution_count": 3
        }
      ]
    },
    {
      "cell_type": "code",
      "metadata": {
        "id": "NC11bXPhsQKj",
        "colab_type": "code",
        "colab": {
          "base_uri": "https://localhost:8080/",
          "height": 68
        },
        "outputId": "d6540145-2904-4617-ed0d-96f06fcae161"
      },
      "source": [
        "dfCase['Business Area'].unique()"
      ],
      "execution_count": 4,
      "outputs": [
        {
          "output_type": "execute_result",
          "data": {
            "text/plain": [
              "array(['HPCST-COMM', 'HPCST-MEDD', 'HPCST-MEDICAID', 'HPCST-EXCH',\n",
              "       'HPCST-STCOB', 'HPCST-MEDD-DUALS', 'HPCST-BLUES', 'HPCST'],\n",
              "      dtype=object)"
            ]
          },
          "metadata": {
            "tags": []
          },
          "execution_count": 4
        }
      ]
    },
    {
      "cell_type": "code",
      "metadata": {
        "id": "tpquXnc4uN2i",
        "colab_type": "code",
        "colab": {
          "base_uri": "https://localhost:8080/",
          "height": 34
        },
        "outputId": "53af1728-c9a4-4061-be88-2f8ac855df53"
      },
      "source": [
        "dfCase['Case: Level of Difficulty'].unique()"
      ],
      "execution_count": 5,
      "outputs": [
        {
          "output_type": "execute_result",
          "data": {
            "text/plain": [
              "array(['Level 3', 'Level 2', 'Level 1', nan], dtype=object)"
            ]
          },
          "metadata": {
            "tags": []
          },
          "execution_count": 5
        }
      ]
    },
    {
      "cell_type": "code",
      "metadata": {
        "id": "IVXiu89QFaL-",
        "colab_type": "code",
        "colab": {
          "base_uri": "https://localhost:8080/",
          "height": 68
        },
        "outputId": "bf715c80-d725-40e1-8829-c8e737d5bd26"
      },
      "source": [
        "dfCase['Case: Case Origin'].unique()"
      ],
      "execution_count": 6,
      "outputs": [
        {
          "output_type": "execute_result",
          "data": {
            "text/plain": [
              "array(['Email', 'Web', nan, 'Audit', 'Client Meeting',\n",
              "       'Testing/Validation', 'Meeting', 'Internal-Claims Surveillance'],\n",
              "      dtype=object)"
            ]
          },
          "metadata": {
            "tags": []
          },
          "execution_count": 6
        }
      ]
    },
    {
      "cell_type": "code",
      "metadata": {
        "id": "DByqSC48FtyC",
        "colab_type": "code",
        "colab": {
          "base_uri": "https://localhost:8080/",
          "height": 1000
        },
        "outputId": "5acb2347-8420-407c-ec49-39f4b6420818"
      },
      "source": [
        "dfCase.tail(10)"
      ],
      "execution_count": 7,
      "outputs": [
        {
          "output_type": "execute_result",
          "data": {
            "text/html": [
              "<div>\n",
              "<style scoped>\n",
              "    .dataframe tbody tr th:only-of-type {\n",
              "        vertical-align: middle;\n",
              "    }\n",
              "\n",
              "    .dataframe tbody tr th {\n",
              "        vertical-align: top;\n",
              "    }\n",
              "\n",
              "    .dataframe thead th {\n",
              "        text-align: right;\n",
              "    }\n",
              "</style>\n",
              "<table border=\"1\" class=\"dataframe\">\n",
              "  <thead>\n",
              "    <tr style=\"text-align: right;\">\n",
              "      <th></th>\n",
              "      <th>Case: Case Number</th>\n",
              "      <th>Case: Case Status</th>\n",
              "      <th>Benefit Test Type</th>\n",
              "      <th>Benefit Test Count</th>\n",
              "      <th>Case: Client Commitment Date</th>\n",
              "      <th>Effective Date</th>\n",
              "      <th>Case: Date/Time Opened</th>\n",
              "      <th>Case: Submitted Date</th>\n",
              "      <th>Case: Subject</th>\n",
              "      <th>WA Owner Manager</th>\n",
              "      <th>Work Assignment: Owner Name</th>\n",
              "      <th>Case: Market Segment</th>\n",
              "      <th>Business Area</th>\n",
              "      <th>Case: Level of Difficulty</th>\n",
              "      <th>Case: Age (In Days) Calendar</th>\n",
              "      <th>Client Name</th>\n",
              "      <th>Case: Super Client</th>\n",
              "      <th>Work Assignment: Workflow Assignment Name</th>\n",
              "      <th>Case: Description</th>\n",
              "      <th>Case: # of Plans Affected</th>\n",
              "      <th>Case: Request Type</th>\n",
              "      <th>Case: Related to a Project</th>\n",
              "      <th>Work Assignment: Record Type</th>\n",
              "      <th>Priority</th>\n",
              "      <th>Work Assignment: Created By</th>\n",
              "      <th>Platform ID</th>\n",
              "      <th>Actual Hours of Effort</th>\n",
              "      <th>Work Assignment: Created Date</th>\n",
              "      <th>Work Assignment: Last Modified Date</th>\n",
              "      <th>Case: Case Date/Time Last Modified</th>\n",
              "      <th>Target Completion Date</th>\n",
              "      <th>Case: Testing Target Completion Date</th>\n",
              "      <th>Case: Met Coding TCD</th>\n",
              "      <th>Case: Met Testing TCD</th>\n",
              "      <th>Case: Met Client Commitment Date</th>\n",
              "      <th>Case: Date/Time Closed</th>\n",
              "      <th>Case: In Production Date</th>\n",
              "      <th>Actual End Date</th>\n",
              "      <th>Status</th>\n",
              "      <th>Case: Classification</th>\n",
              "      <th>Case: Source Type</th>\n",
              "      <th>Case: Case Origin</th>\n",
              "    </tr>\n",
              "  </thead>\n",
              "  <tbody>\n",
              "    <tr>\n",
              "      <th>63475</th>\n",
              "      <td>5350199</td>\n",
              "      <td>Test Checkpoint</td>\n",
              "      <td>NaN</td>\n",
              "      <td>NaN</td>\n",
              "      <td>2020-05-28</td>\n",
              "      <td>2020-07-08</td>\n",
              "      <td>2020-05-26 10:44:00</td>\n",
              "      <td>2020-05-26 10:44:00</td>\n",
              "      <td>MVP MOB Dymista PC update</td>\n",
              "      <td>Susan Colucci</td>\n",
              "      <td>YuvaKumar Kasaru</td>\n",
              "      <td>Health Plan</td>\n",
              "      <td>HPCST-COMM</td>\n",
              "      <td>Level 3</td>\n",
              "      <td>0</td>\n",
              "      <td>MVP NY INSURED COMMERCIAL</td>\n",
              "      <td>MVP Health Plan, Inc.</td>\n",
              "      <td>QA Design - MVP MOB Dymista PC update</td>\n",
              "      <td>See CI for updates.</td>\n",
              "      <td>0.0</td>\n",
              "      <td>CCO-Clinical Benefits</td>\n",
              "      <td>0</td>\n",
              "      <td>Parallel Work Assignment</td>\n",
              "      <td>Urgent</td>\n",
              "      <td>Brandan Walton</td>\n",
              "      <td>1510</td>\n",
              "      <td>3.0</td>\n",
              "      <td>2020-05-26</td>\n",
              "      <td>2020-05-26</td>\n",
              "      <td>2020-05-26 19:32:00</td>\n",
              "      <td>2020-05-26</td>\n",
              "      <td>2020-05-27</td>\n",
              "      <td>Yes</td>\n",
              "      <td>Yes</td>\n",
              "      <td>No</td>\n",
              "      <td>NaT</td>\n",
              "      <td>NaT</td>\n",
              "      <td>2020-05-26 19:28:00</td>\n",
              "      <td>Closed</td>\n",
              "      <td>CCO Clinical Benefits</td>\n",
              "      <td>Production Correction</td>\n",
              "      <td>Email</td>\n",
              "    </tr>\n",
              "    <tr>\n",
              "      <th>63476</th>\n",
              "      <td>3363699</td>\n",
              "      <td>Closed</td>\n",
              "      <td>NaN</td>\n",
              "      <td>NaN</td>\n",
              "      <td>2019-05-02</td>\n",
              "      <td>2018-04-02</td>\n",
              "      <td>2018-04-02 13:47:00</td>\n",
              "      <td>2019-03-20 18:44:00</td>\n",
              "      <td>Molina TX Buprenorphine And Suboxone smart coding</td>\n",
              "      <td>Pramesh Dhasmana</td>\n",
              "      <td>Gurumoorthy Shanmugham</td>\n",
              "      <td>Health Plan</td>\n",
              "      <td>HPCST-MEDICAID</td>\n",
              "      <td>Level 3</td>\n",
              "      <td>394</td>\n",
              "      <td>Molina Texas STAR</td>\n",
              "      <td>Molina Healthcare</td>\n",
              "      <td>QA Design - Molina TX Buprenorphine And Suboxo...</td>\n",
              "      <td>Please see attached CI Matrix. Please use date...</td>\n",
              "      <td>1.0</td>\n",
              "      <td>Fill Restrictions</td>\n",
              "      <td>0</td>\n",
              "      <td>Parallel Work Assignment</td>\n",
              "      <td>Urgent</td>\n",
              "      <td>Matthew Van Os</td>\n",
              "      <td>0825</td>\n",
              "      <td>4.0</td>\n",
              "      <td>2019-03-20</td>\n",
              "      <td>2019-03-28</td>\n",
              "      <td>2019-05-01 14:26:00</td>\n",
              "      <td>2019-03-25</td>\n",
              "      <td>2019-03-29</td>\n",
              "      <td>Yes</td>\n",
              "      <td>Yes</td>\n",
              "      <td>Yes</td>\n",
              "      <td>2019-05-01 14:06:00</td>\n",
              "      <td>2019-05-01</td>\n",
              "      <td>2019-03-28 17:28:00</td>\n",
              "      <td>Closed</td>\n",
              "      <td>Benefits</td>\n",
              "      <td>Minor Request</td>\n",
              "      <td>Email</td>\n",
              "    </tr>\n",
              "    <tr>\n",
              "      <th>63477</th>\n",
              "      <td>3384229</td>\n",
              "      <td>Closed</td>\n",
              "      <td>NaN</td>\n",
              "      <td>NaN</td>\n",
              "      <td>2019-04-15</td>\n",
              "      <td>2018-04-12</td>\n",
              "      <td>2018-04-12 12:21:00</td>\n",
              "      <td>2019-03-20 20:14:00</td>\n",
              "      <td>Molina TX Nuvigil smart coding</td>\n",
              "      <td>Pramesh Dhasmana</td>\n",
              "      <td>Navin Bangera</td>\n",
              "      <td>Health Plan</td>\n",
              "      <td>HPCST-MEDICAID</td>\n",
              "      <td>Level 3</td>\n",
              "      <td>376</td>\n",
              "      <td>Molina Texas STAR</td>\n",
              "      <td>Molina Healthcare</td>\n",
              "      <td>QA Design - Molina TX Nuvigil smart coding</td>\n",
              "      <td>Please see attached CI Matrix. Please use date...</td>\n",
              "      <td>2.0</td>\n",
              "      <td>Fill Restrictions</td>\n",
              "      <td>0</td>\n",
              "      <td>Parallel Work Assignment</td>\n",
              "      <td>Urgent</td>\n",
              "      <td>Matthew Van Os</td>\n",
              "      <td>0825</td>\n",
              "      <td>5.0</td>\n",
              "      <td>2019-03-20</td>\n",
              "      <td>2019-03-26</td>\n",
              "      <td>2019-04-23 12:59:00</td>\n",
              "      <td>2019-03-22</td>\n",
              "      <td>2019-03-27</td>\n",
              "      <td>Yes</td>\n",
              "      <td>Yes</td>\n",
              "      <td>Yes</td>\n",
              "      <td>2019-04-23 12:59:00</td>\n",
              "      <td>2019-04-12</td>\n",
              "      <td>2019-03-26 17:12:00</td>\n",
              "      <td>Closed</td>\n",
              "      <td>Benefits</td>\n",
              "      <td>Minor Request</td>\n",
              "      <td>Email</td>\n",
              "    </tr>\n",
              "    <tr>\n",
              "      <th>63478</th>\n",
              "      <td>3391084</td>\n",
              "      <td>Closed</td>\n",
              "      <td>NaN</td>\n",
              "      <td>NaN</td>\n",
              "      <td>2019-05-09</td>\n",
              "      <td>2018-04-17</td>\n",
              "      <td>2018-04-17 13:33:00</td>\n",
              "      <td>2019-04-13 12:58:00</td>\n",
              "      <td>Molina TX Oxycontin Smart coding</td>\n",
              "      <td>Pramesh Dhasmana</td>\n",
              "      <td>Gurumoorthy Shanmugham</td>\n",
              "      <td>Health Plan</td>\n",
              "      <td>HPCST-MEDICAID</td>\n",
              "      <td>Level 3</td>\n",
              "      <td>412</td>\n",
              "      <td>Molina Texas STAR</td>\n",
              "      <td>Molina Healthcare</td>\n",
              "      <td>QA Design - Molina TX Oxycontin Smart coding</td>\n",
              "      <td>Please see attached CI Matrix. Please use date...</td>\n",
              "      <td>1.0</td>\n",
              "      <td>Fill Restrictions</td>\n",
              "      <td>0</td>\n",
              "      <td>Parallel Work Assignment</td>\n",
              "      <td>Urgent</td>\n",
              "      <td>Matthew Van Os</td>\n",
              "      <td>0825</td>\n",
              "      <td>4.0</td>\n",
              "      <td>2019-04-13</td>\n",
              "      <td>2019-04-29</td>\n",
              "      <td>2019-06-03 15:09:00</td>\n",
              "      <td>2019-04-18</td>\n",
              "      <td>2019-04-30</td>\n",
              "      <td>Yes</td>\n",
              "      <td>Yes</td>\n",
              "      <td>Yes</td>\n",
              "      <td>2019-06-03 15:09:00</td>\n",
              "      <td>2019-05-09</td>\n",
              "      <td>2019-04-29 18:09:00</td>\n",
              "      <td>Closed</td>\n",
              "      <td>Benefits</td>\n",
              "      <td>Project</td>\n",
              "      <td>Email</td>\n",
              "    </tr>\n",
              "    <tr>\n",
              "      <th>63479</th>\n",
              "      <td>3369064</td>\n",
              "      <td>Closed</td>\n",
              "      <td>NaN</td>\n",
              "      <td>NaN</td>\n",
              "      <td>2019-04-15</td>\n",
              "      <td>2018-04-04</td>\n",
              "      <td>2018-04-04 17:25:00</td>\n",
              "      <td>2019-03-20 19:39:00</td>\n",
              "      <td>Molina TX Ingrezza smart coding</td>\n",
              "      <td>Nicki Hollerich</td>\n",
              "      <td>Faviola Aguilar</td>\n",
              "      <td>Health Plan</td>\n",
              "      <td>HPCST-MEDICAID</td>\n",
              "      <td>Level 3</td>\n",
              "      <td>384</td>\n",
              "      <td>Molina Texas STAR</td>\n",
              "      <td>Molina Healthcare</td>\n",
              "      <td>QA Design - Molina TX Ingrezza smart coding</td>\n",
              "      <td>Please see attached CI Matrix. Please use date...</td>\n",
              "      <td>2.0</td>\n",
              "      <td>Fill Restrictions</td>\n",
              "      <td>0</td>\n",
              "      <td>Parallel Work Assignment</td>\n",
              "      <td>Urgent</td>\n",
              "      <td>Matthew Van Os</td>\n",
              "      <td>0825</td>\n",
              "      <td>1.0</td>\n",
              "      <td>2019-03-20</td>\n",
              "      <td>2019-03-28</td>\n",
              "      <td>2019-04-23 11:23:00</td>\n",
              "      <td>2019-03-25</td>\n",
              "      <td>2019-03-29</td>\n",
              "      <td>Yes</td>\n",
              "      <td>Yes</td>\n",
              "      <td>Yes</td>\n",
              "      <td>2019-04-23 11:23:00</td>\n",
              "      <td>2019-04-12</td>\n",
              "      <td>2019-03-28 15:08:00</td>\n",
              "      <td>Closed</td>\n",
              "      <td>Benefits</td>\n",
              "      <td>Minor Request</td>\n",
              "      <td>Email</td>\n",
              "    </tr>\n",
              "    <tr>\n",
              "      <th>63480</th>\n",
              "      <td>3370001</td>\n",
              "      <td>Closed</td>\n",
              "      <td>NaN</td>\n",
              "      <td>NaN</td>\n",
              "      <td>2019-05-02</td>\n",
              "      <td>2018-04-05</td>\n",
              "      <td>2018-04-05 10:12:00</td>\n",
              "      <td>2019-04-11 13:45:00</td>\n",
              "      <td>Molina TX Lidocaine smart coding</td>\n",
              "      <td>Nicki Hollerich</td>\n",
              "      <td>Faviola Aguilar</td>\n",
              "      <td>Health Plan</td>\n",
              "      <td>HPCST-MEDICAID</td>\n",
              "      <td>Level 3</td>\n",
              "      <td>396</td>\n",
              "      <td>Molina Texas STAR</td>\n",
              "      <td>Molina Healthcare</td>\n",
              "      <td>QA Design - Molina TX Lidocaine smart coding</td>\n",
              "      <td>Please see attached CI Matrix. Please use date...</td>\n",
              "      <td>1.0</td>\n",
              "      <td>Fill Restrictions</td>\n",
              "      <td>0</td>\n",
              "      <td>Parallel Work Assignment</td>\n",
              "      <td>Normal</td>\n",
              "      <td>Matthew Van Os</td>\n",
              "      <td>0825</td>\n",
              "      <td>4.5</td>\n",
              "      <td>2019-04-11</td>\n",
              "      <td>2019-04-17</td>\n",
              "      <td>2019-05-06 18:46:00</td>\n",
              "      <td>2019-04-15</td>\n",
              "      <td>2019-04-23</td>\n",
              "      <td>Yes</td>\n",
              "      <td>Yes</td>\n",
              "      <td>Yes</td>\n",
              "      <td>2019-05-06 18:46:00</td>\n",
              "      <td>2019-05-01</td>\n",
              "      <td>2019-04-17 12:12:00</td>\n",
              "      <td>Closed</td>\n",
              "      <td>Benefits</td>\n",
              "      <td>Minor Request</td>\n",
              "      <td>Email</td>\n",
              "    </tr>\n",
              "    <tr>\n",
              "      <th>63481</th>\n",
              "      <td>3641673</td>\n",
              "      <td>Closed</td>\n",
              "      <td>NaN</td>\n",
              "      <td>NaN</td>\n",
              "      <td>2019-02-25</td>\n",
              "      <td>2019-03-01</td>\n",
              "      <td>2018-08-30 09:17:00</td>\n",
              "      <td>2018-11-16 10:32:00</td>\n",
              "      <td>PHPOFMI - Opioid Implementation of Custom Opio...</td>\n",
              "      <td>Shalin Nath</td>\n",
              "      <td>Deebika Rani</td>\n",
              "      <td>Health Plan</td>\n",
              "      <td>HPCST-COMM</td>\n",
              "      <td>Level 1</td>\n",
              "      <td>176</td>\n",
              "      <td>PHP State of MI</td>\n",
              "      <td>PHYSICIAN HEALTH PLAN</td>\n",
              "      <td>QA Design - PHPOFMI - Opioid Implemtation of s...</td>\n",
              "      <td>Custom Opioid MDL updates: add/inactivate/upda...</td>\n",
              "      <td>1.0</td>\n",
              "      <td>Opioid – Custom</td>\n",
              "      <td>0</td>\n",
              "      <td>Parallel Work Assignment</td>\n",
              "      <td>Normal</td>\n",
              "      <td>Christopher Hug</td>\n",
              "      <td>1191</td>\n",
              "      <td>12.0</td>\n",
              "      <td>2019-02-04</td>\n",
              "      <td>2019-02-21</td>\n",
              "      <td>2019-02-22 13:16:00</td>\n",
              "      <td>2019-02-11</td>\n",
              "      <td>2019-02-21</td>\n",
              "      <td>Yes</td>\n",
              "      <td>Yes</td>\n",
              "      <td>Yes</td>\n",
              "      <td>2019-02-22 13:16:00</td>\n",
              "      <td>2019-02-22</td>\n",
              "      <td>2019-02-21 01:25:00</td>\n",
              "      <td>Closed</td>\n",
              "      <td>Benefits</td>\n",
              "      <td>Project</td>\n",
              "      <td>Email</td>\n",
              "    </tr>\n",
              "    <tr>\n",
              "      <th>63482</th>\n",
              "      <td>3648849</td>\n",
              "      <td>Closed</td>\n",
              "      <td>NaN</td>\n",
              "      <td>NaN</td>\n",
              "      <td>2019-06-03</td>\n",
              "      <td>2018-09-04</td>\n",
              "      <td>2018-09-04 19:04:00</td>\n",
              "      <td>2018-10-11 15:30:00</td>\n",
              "      <td>WA Medicaid-Reverse step therapy</td>\n",
              "      <td>Pramesh Dhasmana</td>\n",
              "      <td>Tuyen Nguyen</td>\n",
              "      <td>Health Plan</td>\n",
              "      <td>HPCST-MEDICAID</td>\n",
              "      <td>Level 3</td>\n",
              "      <td>272</td>\n",
              "      <td>MOLINA HEALTHCARE WA-HO</td>\n",
              "      <td>Molina Healthcare</td>\n",
              "      <td>QA Design - WA Medicaid-Reverse step therapy</td>\n",
              "      <td>Please see attached CI Matrix. Please use CI M...</td>\n",
              "      <td>1.0</td>\n",
              "      <td>Fill Restrictions</td>\n",
              "      <td>0</td>\n",
              "      <td>Parallel Work Assignment</td>\n",
              "      <td>Normal</td>\n",
              "      <td>Matthew Van Os</td>\n",
              "      <td>0540</td>\n",
              "      <td>5.0</td>\n",
              "      <td>2018-10-11</td>\n",
              "      <td>2019-05-13</td>\n",
              "      <td>2019-06-03 17:30:00</td>\n",
              "      <td>2019-05-09</td>\n",
              "      <td>2019-05-13</td>\n",
              "      <td>Yes</td>\n",
              "      <td>Yes</td>\n",
              "      <td>Yes</td>\n",
              "      <td>2019-06-03 17:30:00</td>\n",
              "      <td>2019-06-03</td>\n",
              "      <td>2019-05-13 09:49:00</td>\n",
              "      <td>Closed</td>\n",
              "      <td>Benefits</td>\n",
              "      <td>Minor Request</td>\n",
              "      <td>Email</td>\n",
              "    </tr>\n",
              "    <tr>\n",
              "      <th>63483</th>\n",
              "      <td>3804989</td>\n",
              "      <td>Closed</td>\n",
              "      <td>NaN</td>\n",
              "      <td>NaN</td>\n",
              "      <td>2019-01-10</td>\n",
              "      <td>2019-02-01</td>\n",
              "      <td>2018-11-01 16:10:00</td>\n",
              "      <td>2018-11-01 16:10:00</td>\n",
              "      <td>CR 2019 - Evolent Lighthouse - Plan Update</td>\n",
              "      <td>Samuel Cormaty</td>\n",
              "      <td>Prasanth Rangasamy</td>\n",
              "      <td>Health Plan</td>\n",
              "      <td>HPCST-MEDICAID</td>\n",
              "      <td>Level 3</td>\n",
              "      <td>67</td>\n",
              "      <td>Lighthouse Health Seconly</td>\n",
              "      <td>Evolent Health</td>\n",
              "      <td>QA Design WA</td>\n",
              "      <td>Please see attached CRD to update the followin...</td>\n",
              "      <td>1.0</td>\n",
              "      <td>COB; Drug Coverage; Prescriber Network; Prescr...</td>\n",
              "      <td>0</td>\n",
              "      <td>Read-Only User Created Work Assignment</td>\n",
              "      <td>Normal</td>\n",
              "      <td>Prasanth Rangasamy</td>\n",
              "      <td>2719</td>\n",
              "      <td>5.0</td>\n",
              "      <td>2019-01-07</td>\n",
              "      <td>2019-01-07</td>\n",
              "      <td>2019-01-07 12:36:00</td>\n",
              "      <td>2018-11-27</td>\n",
              "      <td>2019-01-07</td>\n",
              "      <td>No</td>\n",
              "      <td>Yes</td>\n",
              "      <td>Yes</td>\n",
              "      <td>2019-01-07 12:36:00</td>\n",
              "      <td>2019-01-07</td>\n",
              "      <td>2019-01-07 06:51:00</td>\n",
              "      <td>Closed</td>\n",
              "      <td>Benefits</td>\n",
              "      <td>Minor Request</td>\n",
              "      <td>Email</td>\n",
              "    </tr>\n",
              "    <tr>\n",
              "      <th>63484</th>\n",
              "      <td>3815677</td>\n",
              "      <td>Closed</td>\n",
              "      <td>NaN</td>\n",
              "      <td>NaN</td>\n",
              "      <td>2019-01-31</td>\n",
              "      <td>2019-03-01</td>\n",
              "      <td>2018-11-02 21:28:00</td>\n",
              "      <td>2018-11-02 21:28:00</td>\n",
              "      <td>LR 2019 - Evolent Arkansas Empower Secondary O...</td>\n",
              "      <td>Samuel Cormaty</td>\n",
              "      <td>BasavarajaRaveendra Nyamati</td>\n",
              "      <td>Health Plan</td>\n",
              "      <td>HPCST-MEDICAID</td>\n",
              "      <td>Level 3</td>\n",
              "      <td>97</td>\n",
              "      <td>EMPOWER HLTHCRE AR SECON</td>\n",
              "      <td>Evolent Health</td>\n",
              "      <td>QA Design</td>\n",
              "      <td>Please see attached CRD to implement new plan....</td>\n",
              "      <td>1.0</td>\n",
              "      <td>New Imp - Account Structure</td>\n",
              "      <td>0</td>\n",
              "      <td>Read-Only User Created Work Assignment</td>\n",
              "      <td>Normal</td>\n",
              "      <td>Suchendra Babu Penjuri</td>\n",
              "      <td>2898</td>\n",
              "      <td>3.0</td>\n",
              "      <td>2019-01-30</td>\n",
              "      <td>2019-01-30</td>\n",
              "      <td>2019-02-07 10:44:00</td>\n",
              "      <td>2019-01-28</td>\n",
              "      <td>2019-01-31</td>\n",
              "      <td>Yes</td>\n",
              "      <td>Yes</td>\n",
              "      <td>Yes</td>\n",
              "      <td>2019-02-07 10:44:00</td>\n",
              "      <td>2019-01-31</td>\n",
              "      <td>2019-01-30 17:48:00</td>\n",
              "      <td>Closed</td>\n",
              "      <td>Benefits</td>\n",
              "      <td>Minor Request</td>\n",
              "      <td>Email</td>\n",
              "    </tr>\n",
              "  </tbody>\n",
              "</table>\n",
              "</div>"
            ],
            "text/plain": [
              "       Case: Case Number  ... Case: Case Origin\n",
              "63475            5350199  ...             Email\n",
              "63476            3363699  ...             Email\n",
              "63477            3384229  ...             Email\n",
              "63478            3391084  ...             Email\n",
              "63479            3369064  ...             Email\n",
              "63480            3370001  ...             Email\n",
              "63481            3641673  ...             Email\n",
              "63482            3648849  ...             Email\n",
              "63483            3804989  ...             Email\n",
              "63484            3815677  ...             Email\n",
              "\n",
              "[10 rows x 42 columns]"
            ]
          },
          "metadata": {
            "tags": []
          },
          "execution_count": 7
        }
      ]
    },
    {
      "cell_type": "code",
      "metadata": {
        "id": "aHLyT4yxTa_N",
        "colab_type": "code",
        "colab": {
          "base_uri": "https://localhost:8080/",
          "height": 221
        },
        "outputId": "cbb47a02-3363-4bcb-bf5f-fb494f3fbd8b"
      },
      "source": [
        "dfCase['Case: Market Segment'].unique"
      ],
      "execution_count": 8,
      "outputs": [
        {
          "output_type": "execute_result",
          "data": {
            "text/plain": [
              "<bound method Series.unique of 0        Health Plan\n",
              "1        Health Plan\n",
              "2        Health Plan\n",
              "3        Health Plan\n",
              "4        Health Plan\n",
              "            ...     \n",
              "63480    Health Plan\n",
              "63481    Health Plan\n",
              "63482    Health Plan\n",
              "63483    Health Plan\n",
              "63484    Health Plan\n",
              "Name: Case: Market Segment, Length: 63485, dtype: object>"
            ]
          },
          "metadata": {
            "tags": []
          },
          "execution_count": 8
        }
      ]
    },
    {
      "cell_type": "code",
      "metadata": {
        "id": "35gPt1SCRbn4",
        "colab_type": "code",
        "colab": {
          "base_uri": "https://localhost:8080/",
          "height": 836
        },
        "outputId": "8dad561a-8b68-41b7-f9ae-bb6ce2fe63fb"
      },
      "source": [
        "# Let's see how many null elements are contained in the data\n",
        "plt.figure(figsize=(10,10))\n",
        "sns.heatmap(dfCase.isnull(), cbar = False, cmap = 'YlGnBu')"
      ],
      "execution_count": 9,
      "outputs": [
        {
          "output_type": "execute_result",
          "data": {
            "text/plain": [
              "<matplotlib.axes._subplots.AxesSubplot at 0x7facbf2e3c88>"
            ]
          },
          "metadata": {
            "tags": []
          },
          "execution_count": 9
        },
        {
          "output_type": "display_data",
          "data": {
            "image/png": "[encoded data removed]",
            "text/plain": [
              "<Figure size 720x720 with 1 Axes>"
            ]
          },
          "metadata": {
            "tags": [],
            "needs_background": "light"
          }
        }
      ]
    },
    {
      "cell_type": "code",
      "metadata": {
        "id": "lmwj7QGMUOBG",
        "colab_type": "code",
        "colab": {
          "base_uri": "https://localhost:8080/",
          "height": 731
        },
        "outputId": "83c98da2-7c0e-403c-e94f-f2f4ab2241ca"
      },
      "source": [
        "list(dfCase.columns)"
      ],
      "execution_count": 10,
      "outputs": [
        {
          "output_type": "execute_result",
          "data": {
            "text/plain": [
              "['Case: Case Number',\n",
              " 'Case: Case Status',\n",
              " 'Benefit Test Type',\n",
              " 'Benefit Test Count',\n",
              " 'Case: Client Commitment Date',\n",
              " 'Effective Date',\n",
              " 'Case: Date/Time Opened',\n",
              " 'Case: Submitted Date',\n",
              " 'Case: Subject',\n",
              " 'WA Owner Manager',\n",
              " 'Work Assignment: Owner Name',\n",
              " 'Case: Market Segment',\n",
              " 'Business Area',\n",
              " 'Case: Level of Difficulty',\n",
              " 'Case: Age (In Days) Calendar',\n",
              " 'Client Name',\n",
              " 'Case: Super Client',\n",
              " 'Work Assignment: Workflow Assignment Name',\n",
              " 'Case: Description',\n",
              " 'Case: # of Plans Affected',\n",
              " 'Case: Request Type',\n",
              " 'Case: Related to a Project',\n",
              " 'Work Assignment: Record Type',\n",
              " 'Priority',\n",
              " 'Work Assignment: Created By',\n",
              " 'Platform ID',\n",
              " 'Actual Hours of Effort',\n",
              " 'Work Assignment: Created Date',\n",
              " 'Work Assignment: Last Modified Date',\n",
              " 'Case: Case Date/Time Last Modified',\n",
              " 'Target Completion Date',\n",
              " 'Case: Testing Target Completion Date',\n",
              " 'Case: Met Coding TCD',\n",
              " 'Case: Met Testing TCD',\n",
              " 'Case: Met Client Commitment Date',\n",
              " 'Case: Date/Time Closed',\n",
              " 'Case: In Production Date',\n",
              " 'Actual End Date',\n",
              " 'Status',\n",
              " 'Case: Classification',\n",
              " 'Case: Source Type',\n",
              " 'Case: Case Origin']"
            ]
          },
          "metadata": {
            "tags": []
          },
          "execution_count": 10
        }
      ]
    },
    {
      "cell_type": "code",
      "metadata": {
        "id": "_LTLgRyTTDIM",
        "colab_type": "code",
        "colab": {}
      },
      "source": [
        "# ID Case Number Date Block IUCR Primary Type Description Location Description Arrest Domestic Beat District Ward Community Area FBI Code X Coordinate Y Coordinate Year Updated On Latitude Longitude Location\n",
        "dfCase.drop(['Case: Case Number',\n",
        " 'Benefit Test Type',\n",
        " 'Benefit Test Count',\n",
        " 'Case: Client Commitment Date',\n",
        " 'Effective Date',\n",
        " 'Case: Date/Time Opened',\n",
        " 'Case: Subject',\n",
        " 'WA Owner Manager',\n",
        " 'Work Assignment: Owner Name',\n",
        " 'Case: Market Segment',\n",
        " 'Client Name',\n",
        " 'Case: Super Client',\n",
        " 'Work Assignment: Workflow Assignment Name',\n",
        " 'Case: Description',\n",
        " 'Case: # of Plans Affected',\n",
        " 'Case: Request Type',\n",
        " 'Case: Related to a Project',\n",
        " 'Work Assignment: Record Type',\n",
        " 'Priority',\n",
        " 'Work Assignment: Created By',\n",
        " 'Platform ID',\n",
        " 'Actual Hours of Effort',\n",
        " 'Work Assignment: Created Date',\n",
        " 'Work Assignment: Last Modified Date',\n",
        " 'Case: Case Date/Time Last Modified',\n",
        " 'Target Completion Date',\n",
        " 'Case: Testing Target Completion Date',\n",
        " 'Case: Met Coding TCD',\n",
        " 'Case: Met Testing TCD',\n",
        " 'Case: Met Client Commitment Date',\n",
        " 'Case: Date/Time Closed',\n",
        " 'Case: In Production Date',\n",
        " 'Actual End Date',\n",
        " 'Case: Classification',\n",
        " 'Case: Source Type',\n",
        " 'Case: Case Origin'], inplace=True, axis=1)"
      ],
      "execution_count": 11,
      "outputs": []
    },
    {
      "cell_type": "code",
      "metadata": {
        "id": "_Nfbc1JCVpy2",
        "colab_type": "code",
        "colab": {
          "base_uri": "https://localhost:8080/",
          "height": 204
        },
        "outputId": "a5835534-2b75-477c-d34f-2a68966d9bfa"
      },
      "source": [
        "dfCase.head(5)"
      ],
      "execution_count": 12,
      "outputs": [
        {
          "output_type": "execute_result",
          "data": {
            "text/html": [
              "<div>\n",
              "<style scoped>\n",
              "    .dataframe tbody tr th:only-of-type {\n",
              "        vertical-align: middle;\n",
              "    }\n",
              "\n",
              "    .dataframe tbody tr th {\n",
              "        vertical-align: top;\n",
              "    }\n",
              "\n",
              "    .dataframe thead th {\n",
              "        text-align: right;\n",
              "    }\n",
              "</style>\n",
              "<table border=\"1\" class=\"dataframe\">\n",
              "  <thead>\n",
              "    <tr style=\"text-align: right;\">\n",
              "      <th></th>\n",
              "      <th>Case: Case Status</th>\n",
              "      <th>Case: Submitted Date</th>\n",
              "      <th>Business Area</th>\n",
              "      <th>Case: Level of Difficulty</th>\n",
              "      <th>Case: Age (In Days) Calendar</th>\n",
              "      <th>Status</th>\n",
              "    </tr>\n",
              "  </thead>\n",
              "  <tbody>\n",
              "    <tr>\n",
              "      <th>0</th>\n",
              "      <td>Closed</td>\n",
              "      <td>2019-06-25 15:35:00</td>\n",
              "      <td>HPCST-COMM</td>\n",
              "      <td>Level 3</td>\n",
              "      <td>40</td>\n",
              "      <td>Closed</td>\n",
              "    </tr>\n",
              "    <tr>\n",
              "      <th>1</th>\n",
              "      <td>Closed</td>\n",
              "      <td>2019-01-07 16:18:00</td>\n",
              "      <td>HPCST-MEDD</td>\n",
              "      <td>Level 3</td>\n",
              "      <td>2</td>\n",
              "      <td>Closed</td>\n",
              "    </tr>\n",
              "    <tr>\n",
              "      <th>2</th>\n",
              "      <td>Closed</td>\n",
              "      <td>2019-01-29 22:15:00</td>\n",
              "      <td>HPCST-COMM</td>\n",
              "      <td>Level 3</td>\n",
              "      <td>8</td>\n",
              "      <td>Closed</td>\n",
              "    </tr>\n",
              "    <tr>\n",
              "      <th>3</th>\n",
              "      <td>Closed</td>\n",
              "      <td>2019-02-18 11:45:00</td>\n",
              "      <td>HPCST-MEDD</td>\n",
              "      <td>Level 3</td>\n",
              "      <td>4</td>\n",
              "      <td>Closed</td>\n",
              "    </tr>\n",
              "    <tr>\n",
              "      <th>4</th>\n",
              "      <td>Closed</td>\n",
              "      <td>2019-03-10 19:15:00</td>\n",
              "      <td>HPCST-MEDICAID</td>\n",
              "      <td>Level 3</td>\n",
              "      <td>4</td>\n",
              "      <td>Closed</td>\n",
              "    </tr>\n",
              "  </tbody>\n",
              "</table>\n",
              "</div>"
            ],
            "text/plain": [
              "  Case: Case Status Case: Submitted Date  ... Case: Age (In Days) Calendar  Status\n",
              "0            Closed  2019-06-25 15:35:00  ...                           40  Closed\n",
              "1            Closed  2019-01-07 16:18:00  ...                            2  Closed\n",
              "2            Closed  2019-01-29 22:15:00  ...                            8  Closed\n",
              "3            Closed  2019-02-18 11:45:00  ...                            4  Closed\n",
              "4            Closed  2019-03-10 19:15:00  ...                            4  Closed\n",
              "\n",
              "[5 rows x 6 columns]"
            ]
          },
          "metadata": {
            "tags": []
          },
          "execution_count": 12
        }
      ]
    },
    {
      "cell_type": "code",
      "metadata": {
        "id": "HJ4y4vQWVs2M",
        "colab_type": "code",
        "colab": {
          "base_uri": "https://localhost:8080/",
          "height": 68
        },
        "outputId": "cf697e96-73ac-403f-b5b1-9430dcac0b27"
      },
      "source": [
        "dfCase.columns"
      ],
      "execution_count": 13,
      "outputs": [
        {
          "output_type": "execute_result",
          "data": {
            "text/plain": [
              "Index(['Case: Case Status', 'Case: Submitted Date', 'Business Area',\n",
              "       'Case: Level of Difficulty', 'Case: Age (In Days) Calendar', 'Status'],\n",
              "      dtype='object')"
            ]
          },
          "metadata": {
            "tags": []
          },
          "execution_count": 13
        }
      ]
    },
    {
      "cell_type": "code",
      "metadata": {
        "id": "vCxcKho1XOVL",
        "colab_type": "code",
        "colab": {}
      },
      "source": [
        "dfCase.columns = ['CaseStatus','SubmittedDate','BusinessArea','CaseLevelOfDifficulty','CaseAgeInCalendarDays','Status']"
      ],
      "execution_count": 14,
      "outputs": []
    },
    {
      "cell_type": "code",
      "metadata": {
        "id": "dlHDVia4Xhjm",
        "colab_type": "code",
        "colab": {}
      },
      "source": [
        "dfCase.SubmittedDate = pd.to_datetime(dfCase.SubmittedDate, format='%m-%d-%Y %I:%M:%S')"
      ],
      "execution_count": 15,
      "outputs": []
    },
    {
      "cell_type": "code",
      "metadata": {
        "id": "V0ltWVPSaRBr",
        "colab_type": "code",
        "colab": {}
      },
      "source": [
        "# setting the index to be the date \n",
        "dfCase.index = pd.DatetimeIndex(dfCase.SubmittedDate)"
      ],
      "execution_count": 16,
      "outputs": []
    },
    {
      "cell_type": "code",
      "metadata": {
        "id": "_e6CMEgEXivm",
        "colab_type": "code",
        "colab": {
          "base_uri": "https://localhost:8080/",
          "height": 235
        },
        "outputId": "ba16bdca-9847-49eb-d845-ecca7c448dc8"
      },
      "source": [
        "dfCase.head()"
      ],
      "execution_count": 17,
      "outputs": [
        {
          "output_type": "execute_result",
          "data": {
            "text/html": [
              "<div>\n",
              "<style scoped>\n",
              "    .dataframe tbody tr th:only-of-type {\n",
              "        vertical-align: middle;\n",
              "    }\n",
              "\n",
              "    .dataframe tbody tr th {\n",
              "        vertical-align: top;\n",
              "    }\n",
              "\n",
              "    .dataframe thead th {\n",
              "        text-align: right;\n",
              "    }\n",
              "</style>\n",
              "<table border=\"1\" class=\"dataframe\">\n",
              "  <thead>\n",
              "    <tr style=\"text-align: right;\">\n",
              "      <th></th>\n",
              "      <th>CaseStatus</th>\n",
              "      <th>SubmittedDate</th>\n",
              "      <th>BusinessArea</th>\n",
              "      <th>CaseLevelOfDifficulty</th>\n",
              "      <th>CaseAgeInCalendarDays</th>\n",
              "      <th>Status</th>\n",
              "    </tr>\n",
              "    <tr>\n",
              "      <th>SubmittedDate</th>\n",
              "      <th></th>\n",
              "      <th></th>\n",
              "      <th></th>\n",
              "      <th></th>\n",
              "      <th></th>\n",
              "      <th></th>\n",
              "    </tr>\n",
              "  </thead>\n",
              "  <tbody>\n",
              "    <tr>\n",
              "      <th>2019-06-25 15:35:00</th>\n",
              "      <td>Closed</td>\n",
              "      <td>2019-06-25 15:35:00</td>\n",
              "      <td>HPCST-COMM</td>\n",
              "      <td>Level 3</td>\n",
              "      <td>40</td>\n",
              "      <td>Closed</td>\n",
              "    </tr>\n",
              "    <tr>\n",
              "      <th>2019-01-07 16:18:00</th>\n",
              "      <td>Closed</td>\n",
              "      <td>2019-01-07 16:18:00</td>\n",
              "      <td>HPCST-MEDD</td>\n",
              "      <td>Level 3</td>\n",
              "      <td>2</td>\n",
              "      <td>Closed</td>\n",
              "    </tr>\n",
              "    <tr>\n",
              "      <th>2019-01-29 22:15:00</th>\n",
              "      <td>Closed</td>\n",
              "      <td>2019-01-29 22:15:00</td>\n",
              "      <td>HPCST-COMM</td>\n",
              "      <td>Level 3</td>\n",
              "      <td>8</td>\n",
              "      <td>Closed</td>\n",
              "    </tr>\n",
              "    <tr>\n",
              "      <th>2019-02-18 11:45:00</th>\n",
              "      <td>Closed</td>\n",
              "      <td>2019-02-18 11:45:00</td>\n",
              "      <td>HPCST-MEDD</td>\n",
              "      <td>Level 3</td>\n",
              "      <td>4</td>\n",
              "      <td>Closed</td>\n",
              "    </tr>\n",
              "    <tr>\n",
              "      <th>2019-03-10 19:15:00</th>\n",
              "      <td>Closed</td>\n",
              "      <td>2019-03-10 19:15:00</td>\n",
              "      <td>HPCST-MEDICAID</td>\n",
              "      <td>Level 3</td>\n",
              "      <td>4</td>\n",
              "      <td>Closed</td>\n",
              "    </tr>\n",
              "  </tbody>\n",
              "</table>\n",
              "</div>"
            ],
            "text/plain": [
              "                    CaseStatus  ...  Status\n",
              "SubmittedDate                   ...        \n",
              "2019-06-25 15:35:00     Closed  ...  Closed\n",
              "2019-01-07 16:18:00     Closed  ...  Closed\n",
              "2019-01-29 22:15:00     Closed  ...  Closed\n",
              "2019-02-18 11:45:00     Closed  ...  Closed\n",
              "2019-03-10 19:15:00     Closed  ...  Closed\n",
              "\n",
              "[5 rows x 6 columns]"
            ]
          },
          "metadata": {
            "tags": []
          },
          "execution_count": 17
        }
      ]
    },
    {
      "cell_type": "code",
      "metadata": {
        "id": "RetNKsVAX26H",
        "colab_type": "code",
        "colab": {
          "base_uri": "https://localhost:8080/",
          "height": 170
        },
        "outputId": "aaf7d4b0-4534-4c2c-f0fc-a22e7d6ed5a3"
      },
      "source": [
        "dfCase['BusinessArea'].value_counts()"
      ],
      "execution_count": 18,
      "outputs": [
        {
          "output_type": "execute_result",
          "data": {
            "text/plain": [
              "HPCST-COMM          35510\n",
              "HPCST-MEDICAID      12388\n",
              "HPCST-EXCH           7184\n",
              "HPCST-MEDD           7073\n",
              "HPCST-MEDD-DUALS      543\n",
              "HPCST-STCOB           479\n",
              "HPCST-BLUES           306\n",
              "HPCST                   2\n",
              "Name: BusinessArea, dtype: int64"
            ]
          },
          "metadata": {
            "tags": []
          },
          "execution_count": 18
        }
      ]
    },
    {
      "cell_type": "code",
      "metadata": {
        "id": "8692iQ79YUBk",
        "colab_type": "code",
        "colab": {
          "base_uri": "https://localhost:8080/",
          "height": 85
        },
        "outputId": "84d473af-0c48-4982-f236-55e7e19b82fe"
      },
      "source": [
        "dfCase['CaseLevelOfDifficulty'].value_counts()"
      ],
      "execution_count": 19,
      "outputs": [
        {
          "output_type": "execute_result",
          "data": {
            "text/plain": [
              "Level 3    58769\n",
              "Level 2     2621\n",
              "Level 1     1961\n",
              "Name: CaseLevelOfDifficulty, dtype: int64"
            ]
          },
          "metadata": {
            "tags": []
          },
          "execution_count": 19
        }
      ]
    },
    {
      "cell_type": "code",
      "metadata": {
        "id": "jVfZrpBsYYsz",
        "colab_type": "code",
        "colab": {
          "base_uri": "https://localhost:8080/",
          "height": 170
        },
        "outputId": "ce7ae783-ee40-41a5-a4ef-19f5cb9c981d"
      },
      "source": [
        "dfCase['CaseStatus'].value_counts()"
      ],
      "execution_count": 20,
      "outputs": [
        {
          "output_type": "execute_result",
          "data": {
            "text/plain": [
              "Closed                           62921\n",
              "Final Review                       407\n",
              "Pended                              55\n",
              "Review                              55\n",
              "Test Checkpoint                     32\n",
              "Test                                 6\n",
              "Unpended                             5\n",
              "Cancellation Review Requested        4\n",
              "Name: CaseStatus, dtype: int64"
            ]
          },
          "metadata": {
            "tags": []
          },
          "execution_count": 20
        }
      ]
    },
    {
      "cell_type": "code",
      "metadata": {
        "id": "6Rh3Y4UTYn8L",
        "colab_type": "code",
        "colab": {
          "base_uri": "https://localhost:8080/",
          "height": 68
        },
        "outputId": "9391d736-becc-4e74-ac9f-f9a0ec6a74b0"
      },
      "source": [
        "dfCase['BusinessArea'].value_counts().iloc[:].index"
      ],
      "execution_count": 21,
      "outputs": [
        {
          "output_type": "execute_result",
          "data": {
            "text/plain": [
              "Index(['HPCST-COMM', 'HPCST-MEDICAID', 'HPCST-EXCH', 'HPCST-MEDD',\n",
              "       'HPCST-MEDD-DUALS', 'HPCST-STCOB', 'HPCST-BLUES', 'HPCST'],\n",
              "      dtype='object')"
            ]
          },
          "metadata": {
            "tags": []
          },
          "execution_count": 21
        }
      ]
    },
    {
      "cell_type": "code",
      "metadata": {
        "id": "M9RQqm4UZUCs",
        "colab_type": "code",
        "colab": {
          "base_uri": "https://localhost:8080/",
          "height": 623
        },
        "outputId": "0451bab0-11c4-4b77-f955-92cc62bf4bca"
      },
      "source": [
        "plt.figure(figsize = (15, 10))\n",
        "sns.countplot(y= 'BusinessArea', data = dfCase, order = dfCase['BusinessArea'].value_counts().iloc[:].index)"
      ],
      "execution_count": 22,
      "outputs": [
        {
          "output_type": "execute_result",
          "data": {
            "text/plain": [
              "<matplotlib.axes._subplots.AxesSubplot at 0x7facb921e518>"
            ]
          },
          "metadata": {
            "tags": []
          },
          "execution_count": 22
        },
        {
          "output_type": "display_data",
          "data": {
            "image/png": "[encoded data removed]",
            "text/plain": [
              "<Figure size 1080x720 with 1 Axes>"
            ]
          },
          "metadata": {
            "tags": [],
            "needs_background": "light"
          }
        }
      ]
    },
    {
      "cell_type": "code",
      "metadata": {
        "id": "xyGpkLswZeFN",
        "colab_type": "code",
        "colab": {
          "base_uri": "https://localhost:8080/",
          "height": 623
        },
        "outputId": "d91b6040-8560-4a4a-c884-709a4d798802"
      },
      "source": [
        "plt.figure(figsize = (15, 10))\n",
        "sns.countplot(y= 'CaseLevelOfDifficulty', data = dfCase, order = dfCase['CaseLevelOfDifficulty'].value_counts().iloc[:].index)"
      ],
      "execution_count": 23,
      "outputs": [
        {
          "output_type": "execute_result",
          "data": {
            "text/plain": [
              "<matplotlib.axes._subplots.AxesSubplot at 0x7facb8fa3518>"
            ]
          },
          "metadata": {
            "tags": []
          },
          "execution_count": 23
        },
        {
          "output_type": "display_data",
          "data": {
            "image/png": "[encoded data removed]",
            "text/plain": [
              "<Figure size 1080x720 with 1 Axes>"
            ]
          },
          "metadata": {
            "tags": [],
            "needs_background": "light"
          }
        }
      ]
    },
    {
      "cell_type": "code",
      "metadata": {
        "id": "y0NJQ14carBy",
        "colab_type": "code",
        "colab": {
          "base_uri": "https://localhost:8080/"
        },
        "outputId": "7352e64e-5767-4471-e5e9-03689d3bac36"
      },
      "source": [
        "# Resample is a Convenience method for frequency conversion and resampling of time series.\n",
        "plt.figure(figsize = (15, 10))\n",
        "plt.plot(dfCase.resample('Y').size())\n",
        "plt.title('Case Count Per Year')\n",
        "plt.xlabel('Years')\n",
        "plt.ylabel('Number of Cases')"
      ],
      "execution_count": 24,
      "outputs": [
        {
          "output_type": "execute_result",
          "data": {
            "text/plain": [
              "Text(0, 0.5, 'Number of Cases')"
            ]
          },
          "metadata": {
            "tags": []
          },
          "execution_count": 24
        },
        {
          "output_type": "display_data",
          "data": {
            "image/png": "[encoded data removed]",
            "text/plain": [
              "<Figure size 1080x720 with 1 Axes>"
            ]
          },
          "metadata": {
            "tags": [],
            "needs_background": "light"
          }
        }
      ]
    },
    {
      "cell_type": "code",
      "metadata": {
        "id": "7qYfVHSfeNi4",
        "colab_type": "code",
        "colab": {
          "base_uri": "https://localhost:8080/"
        },
        "outputId": "ffffd6ff-478a-4701-85ca-288ad788f875"
      },
      "source": [
        "# Resample is a Convenience method for frequency conversion and resampling of time series.\n",
        "plt.figure(figsize = (20, 10))\n",
        "plt.plot(dfCase.resample('M').size())\n",
        "plt.title('Case Count Per Month')\n",
        "plt.xlabel('Month')\n",
        "plt.ylabel('Number of Cases')"
      ],
      "execution_count": 25,
      "outputs": [
        {
          "output_type": "execute_result",
          "data": {
            "text/plain": [
              "Text(0, 0.5, 'Number of Cases')"
            ]
          },
          "metadata": {
            "tags": []
          },
          "execution_count": 25
        },
        {
          "output_type": "display_data",
          "data": {
            "image/png": "[encoded data removed]",
            "text/plain": [
              "<Figure size 1440x720 with 1 Axes>"
            ]
          },
          "metadata": {
            "tags": [],
            "needs_background": "light"
          }
        }
      ]
    },
    {
      "cell_type": "code",
      "metadata": {
        "id": "WLSopT2JeS3W",
        "colab_type": "code",
        "colab": {
          "base_uri": "https://localhost:8080/",
          "height": 638
        },
        "outputId": "3b9adf95-3173-4bab-a5c7-d3c09c1a4384"
      },
      "source": [
        "# Resample is a Convenience method for frequency conversion and resampling of time series.\n",
        "plt.figure(figsize = (20, 10))\n",
        "plt.plot(dfCase.resample('Q').size())\n",
        "plt.title('Case Count Per Quarter')\n",
        "plt.xlabel('Quarter')\n",
        "plt.ylabel('Number of Cases')"
      ],
      "execution_count": 26,
      "outputs": [
        {
          "output_type": "execute_result",
          "data": {
            "text/plain": [
              "Text(0, 0.5, 'Number of Cases')"
            ]
          },
          "metadata": {
            "tags": []
          },
          "execution_count": 26
        },
        {
          "output_type": "display_data",
          "data": {
            "image/png": "[encoded data removed]",
            "text/plain": [
              "<Figure size 1440x720 with 1 Axes>"
            ]
          },
          "metadata": {
            "tags": [],
            "needs_background": "light"
          }
        }
      ]
    },
    {
      "cell_type": "code",
      "metadata": {
        "id": "xIqpZ80HeguY",
        "colab_type": "code",
        "colab": {}
      },
      "source": [
        ""
      ],
      "execution_count": 26,
      "outputs": []
    },
    {
      "cell_type": "markdown",
      "metadata": {
        "id": "eLwTfzn9fmYE",
        "colab_type": "text"
      },
      "source": [
        "## Step 3: Preparing the data"
      ]
    },
    {
      "cell_type": "code",
      "metadata": {
        "id": "B3rDrYBJforv",
        "colab_type": "code",
        "colab": {}
      },
      "source": [
        "dfCase_prophet = dfCase.resample('M').size().reset_index()"
      ],
      "execution_count": 27,
      "outputs": []
    },
    {
      "cell_type": "code",
      "metadata": {
        "id": "6Csv_uq2fyP5",
        "colab_type": "code",
        "colab": {
          "base_uri": "https://localhost:8080/"
        },
        "outputId": "5a2ec37e-579c-4f9e-dfcb-25618ed16250"
      },
      "source": [
        "dfCase_prophet"
      ],
      "execution_count": 28,
      "outputs": [
        {
          "output_type": "execute_result",
          "data": {
            "text/html": [
              "<div>\n",
              "<style scoped>\n",
              "    .dataframe tbody tr th:only-of-type {\n",
              "        vertical-align: middle;\n",
              "    }\n",
              "\n",
              "    .dataframe tbody tr th {\n",
              "        vertical-align: top;\n",
              "    }\n",
              "\n",
              "    .dataframe thead th {\n",
              "        text-align: right;\n",
              "    }\n",
              "</style>\n",
              "<table border=\"1\" class=\"dataframe\">\n",
              "  <thead>\n",
              "    <tr style=\"text-align: right;\">\n",
              "      <th></th>\n",
              "      <th>SubmittedDate</th>\n",
              "      <th>0</th>\n",
              "    </tr>\n",
              "  </thead>\n",
              "  <tbody>\n",
              "    <tr>\n",
              "      <th>0</th>\n",
              "      <td>2018-10-31</td>\n",
              "      <td>1</td>\n",
              "    </tr>\n",
              "    <tr>\n",
              "      <th>1</th>\n",
              "      <td>2018-11-30</td>\n",
              "      <td>9</td>\n",
              "    </tr>\n",
              "    <tr>\n",
              "      <th>2</th>\n",
              "      <td>2018-12-31</td>\n",
              "      <td>363</td>\n",
              "    </tr>\n",
              "    <tr>\n",
              "      <th>3</th>\n",
              "      <td>2019-01-31</td>\n",
              "      <td>3993</td>\n",
              "    </tr>\n",
              "    <tr>\n",
              "      <th>4</th>\n",
              "      <td>2019-02-28</td>\n",
              "      <td>3065</td>\n",
              "    </tr>\n",
              "    <tr>\n",
              "      <th>5</th>\n",
              "      <td>2019-03-31</td>\n",
              "      <td>3784</td>\n",
              "    </tr>\n",
              "    <tr>\n",
              "      <th>6</th>\n",
              "      <td>2019-04-30</td>\n",
              "      <td>3729</td>\n",
              "    </tr>\n",
              "    <tr>\n",
              "      <th>7</th>\n",
              "      <td>2019-05-31</td>\n",
              "      <td>3796</td>\n",
              "    </tr>\n",
              "    <tr>\n",
              "      <th>8</th>\n",
              "      <td>2019-06-30</td>\n",
              "      <td>3555</td>\n",
              "    </tr>\n",
              "    <tr>\n",
              "      <th>9</th>\n",
              "      <td>2019-07-31</td>\n",
              "      <td>4007</td>\n",
              "    </tr>\n",
              "    <tr>\n",
              "      <th>10</th>\n",
              "      <td>2019-08-31</td>\n",
              "      <td>3367</td>\n",
              "    </tr>\n",
              "    <tr>\n",
              "      <th>11</th>\n",
              "      <td>2019-09-30</td>\n",
              "      <td>5097</td>\n",
              "    </tr>\n",
              "    <tr>\n",
              "      <th>12</th>\n",
              "      <td>2019-10-31</td>\n",
              "      <td>5544</td>\n",
              "    </tr>\n",
              "    <tr>\n",
              "      <th>13</th>\n",
              "      <td>2019-11-30</td>\n",
              "      <td>5212</td>\n",
              "    </tr>\n",
              "    <tr>\n",
              "      <th>14</th>\n",
              "      <td>2019-12-31</td>\n",
              "      <td>4580</td>\n",
              "    </tr>\n",
              "    <tr>\n",
              "      <th>15</th>\n",
              "      <td>2020-01-31</td>\n",
              "      <td>3167</td>\n",
              "    </tr>\n",
              "    <tr>\n",
              "      <th>16</th>\n",
              "      <td>2020-02-29</td>\n",
              "      <td>2611</td>\n",
              "    </tr>\n",
              "    <tr>\n",
              "      <th>17</th>\n",
              "      <td>2020-03-31</td>\n",
              "      <td>3308</td>\n",
              "    </tr>\n",
              "    <tr>\n",
              "      <th>18</th>\n",
              "      <td>2020-04-30</td>\n",
              "      <td>2579</td>\n",
              "    </tr>\n",
              "    <tr>\n",
              "      <th>19</th>\n",
              "      <td>2020-05-31</td>\n",
              "      <td>1717</td>\n",
              "    </tr>\n",
              "  </tbody>\n",
              "</table>\n",
              "</div>"
            ],
            "text/plain": [
              "   SubmittedDate     0\n",
              "0     2018-10-31     1\n",
              "1     2018-11-30     9\n",
              "2     2018-12-31   363\n",
              "3     2019-01-31  3993\n",
              "4     2019-02-28  3065\n",
              "5     2019-03-31  3784\n",
              "6     2019-04-30  3729\n",
              "7     2019-05-31  3796\n",
              "8     2019-06-30  3555\n",
              "9     2019-07-31  4007\n",
              "10    2019-08-31  3367\n",
              "11    2019-09-30  5097\n",
              "12    2019-10-31  5544\n",
              "13    2019-11-30  5212\n",
              "14    2019-12-31  4580\n",
              "15    2020-01-31  3167\n",
              "16    2020-02-29  2611\n",
              "17    2020-03-31  3308\n",
              "18    2020-04-30  2579\n",
              "19    2020-05-31  1717"
            ]
          },
          "metadata": {
            "tags": []
          },
          "execution_count": 28
        }
      ]
    },
    {
      "cell_type": "code",
      "metadata": {
        "id": "AhwYPbJRf1BQ",
        "colab_type": "code",
        "colab": {}
      },
      "source": [
        "dfCase_prophet.columns = ['Date', 'Case Count']"
      ],
      "execution_count": 29,
      "outputs": []
    },
    {
      "cell_type": "code",
      "metadata": {
        "id": "txd1FlnWghq_",
        "colab_type": "code",
        "colab": {
          "base_uri": "https://localhost:8080/",
          "height": 34
        },
        "outputId": "9f381996-bc3f-4087-88cc-bc529e585cef"
      },
      "source": [
        "dfCase_prophet.columns"
      ],
      "execution_count": 30,
      "outputs": [
        {
          "output_type": "execute_result",
          "data": {
            "text/plain": [
              "Index(['Date', 'Case Count'], dtype='object')"
            ]
          },
          "metadata": {
            "tags": []
          },
          "execution_count": 30
        }
      ]
    },
    {
      "cell_type": "code",
      "metadata": {
        "id": "w7Ieu1-igmV6",
        "colab_type": "code",
        "colab": {}
      },
      "source": [
        "dfCase_prophet_final = dfCase_prophet.rename(columns={'Date':'ds', 'Case Count':'y'})"
      ],
      "execution_count": 31,
      "outputs": []
    },
    {
      "cell_type": "code",
      "metadata": {
        "id": "qB4Z88XogwMD",
        "colab_type": "code",
        "colab": {
          "base_uri": "https://localhost:8080/"
        },
        "outputId": "49c308ba-d5b8-437a-f0f4-83319400ebdd"
      },
      "source": [
        "dfCase_prophet_final"
      ],
      "execution_count": 32,
      "outputs": [
        {
          "output_type": "execute_result",
          "data": {
            "text/html": [
              "<div>\n",
              "<style scoped>\n",
              "    .dataframe tbody tr th:only-of-type {\n",
              "        vertical-align: middle;\n",
              "    }\n",
              "\n",
              "    .dataframe tbody tr th {\n",
              "        vertical-align: top;\n",
              "    }\n",
              "\n",
              "    .dataframe thead th {\n",
              "        text-align: right;\n",
              "    }\n",
              "</style>\n",
              "<table border=\"1\" class=\"dataframe\">\n",
              "  <thead>\n",
              "    <tr style=\"text-align: right;\">\n",
              "      <th></th>\n",
              "      <th>ds</th>\n",
              "      <th>y</th>\n",
              "    </tr>\n",
              "  </thead>\n",
              "  <tbody>\n",
              "    <tr>\n",
              "      <th>0</th>\n",
              "      <td>2018-10-31</td>\n",
              "      <td>1</td>\n",
              "    </tr>\n",
              "    <tr>\n",
              "      <th>1</th>\n",
              "      <td>2018-11-30</td>\n",
              "      <td>9</td>\n",
              "    </tr>\n",
              "    <tr>\n",
              "      <th>2</th>\n",
              "      <td>2018-12-31</td>\n",
              "      <td>363</td>\n",
              "    </tr>\n",
              "    <tr>\n",
              "      <th>3</th>\n",
              "      <td>2019-01-31</td>\n",
              "      <td>3993</td>\n",
              "    </tr>\n",
              "    <tr>\n",
              "      <th>4</th>\n",
              "      <td>2019-02-28</td>\n",
              "      <td>3065</td>\n",
              "    </tr>\n",
              "    <tr>\n",
              "      <th>5</th>\n",
              "      <td>2019-03-31</td>\n",
              "      <td>3784</td>\n",
              "    </tr>\n",
              "    <tr>\n",
              "      <th>6</th>\n",
              "      <td>2019-04-30</td>\n",
              "      <td>3729</td>\n",
              "    </tr>\n",
              "    <tr>\n",
              "      <th>7</th>\n",
              "      <td>2019-05-31</td>\n",
              "      <td>3796</td>\n",
              "    </tr>\n",
              "    <tr>\n",
              "      <th>8</th>\n",
              "      <td>2019-06-30</td>\n",
              "      <td>3555</td>\n",
              "    </tr>\n",
              "    <tr>\n",
              "      <th>9</th>\n",
              "      <td>2019-07-31</td>\n",
              "      <td>4007</td>\n",
              "    </tr>\n",
              "    <tr>\n",
              "      <th>10</th>\n",
              "      <td>2019-08-31</td>\n",
              "      <td>3367</td>\n",
              "    </tr>\n",
              "    <tr>\n",
              "      <th>11</th>\n",
              "      <td>2019-09-30</td>\n",
              "      <td>5097</td>\n",
              "    </tr>\n",
              "    <tr>\n",
              "      <th>12</th>\n",
              "      <td>2019-10-31</td>\n",
              "      <td>5544</td>\n",
              "    </tr>\n",
              "    <tr>\n",
              "      <th>13</th>\n",
              "      <td>2019-11-30</td>\n",
              "      <td>5212</td>\n",
              "    </tr>\n",
              "    <tr>\n",
              "      <th>14</th>\n",
              "      <td>2019-12-31</td>\n",
              "      <td>4580</td>\n",
              "    </tr>\n",
              "    <tr>\n",
              "      <th>15</th>\n",
              "      <td>2020-01-31</td>\n",
              "      <td>3167</td>\n",
              "    </tr>\n",
              "    <tr>\n",
              "      <th>16</th>\n",
              "      <td>2020-02-29</td>\n",
              "      <td>2611</td>\n",
              "    </tr>\n",
              "    <tr>\n",
              "      <th>17</th>\n",
              "      <td>2020-03-31</td>\n",
              "      <td>3308</td>\n",
              "    </tr>\n",
              "    <tr>\n",
              "      <th>18</th>\n",
              "      <td>2020-04-30</td>\n",
              "      <td>2579</td>\n",
              "    </tr>\n",
              "    <tr>\n",
              "      <th>19</th>\n",
              "      <td>2020-05-31</td>\n",
              "      <td>1717</td>\n",
              "    </tr>\n",
              "  </tbody>\n",
              "</table>\n",
              "</div>"
            ],
            "text/plain": [
              "           ds     y\n",
              "0  2018-10-31     1\n",
              "1  2018-11-30     9\n",
              "2  2018-12-31   363\n",
              "3  2019-01-31  3993\n",
              "4  2019-02-28  3065\n",
              "5  2019-03-31  3784\n",
              "6  2019-04-30  3729\n",
              "7  2019-05-31  3796\n",
              "8  2019-06-30  3555\n",
              "9  2019-07-31  4007\n",
              "10 2019-08-31  3367\n",
              "11 2019-09-30  5097\n",
              "12 2019-10-31  5544\n",
              "13 2019-11-30  5212\n",
              "14 2019-12-31  4580\n",
              "15 2020-01-31  3167\n",
              "16 2020-02-29  2611\n",
              "17 2020-03-31  3308\n",
              "18 2020-04-30  2579\n",
              "19 2020-05-31  1717"
            ]
          },
          "metadata": {
            "tags": []
          },
          "execution_count": 32
        }
      ]
    },
    {
      "cell_type": "code",
      "metadata": {
        "id": "F2g6S32tgzff",
        "colab_type": "code",
        "colab": {
          "base_uri": "https://localhost:8080/",
          "height": 51
        },
        "outputId": "fa04ebde-a9ba-4d54-ac07-b9f535a0a046"
      },
      "source": [
        "m = Prophet(yearly_seasonality=True,weekly_seasonality=True,daily_seasonality=True)\n",
        "m.fit(dfCase_prophet_final)"
      ],
      "execution_count": 33,
      "outputs": [
        {
          "output_type": "stream",
          "text": [
            "INFO:fbprophet:n_changepoints greater than number of observations. Using 15.\n"
          ],
          "name": "stderr"
        },
        {
          "output_type": "execute_result",
          "data": {
            "text/plain": [
              "<fbprophet.forecaster.Prophet at 0x7facb921bf98>"
            ]
          },
          "metadata": {
            "tags": []
          },
          "execution_count": 33
        }
      ]
    },
    {
      "cell_type": "code",
      "metadata": {
        "id": "Sh3W-Wxeg5IM",
        "colab_type": "code",
        "colab": {}
      },
      "source": [
        "# Forcasting into the future\n",
        "future = m.make_future_dataframe(periods=365)\n",
        "forecast = m.predict(future)"
      ],
      "execution_count": 34,
      "outputs": []
    },
    {
      "cell_type": "code",
      "metadata": {
        "id": "TiDgJCxhheOm",
        "colab_type": "code",
        "colab": {
          "base_uri": "https://localhost:8080/",
          "height": 441
        },
        "outputId": "8d64dc7a-677e-4b06-fd1d-7c8555addc46"
      },
      "source": [
        "figure = m.plot(forecast, xlabel='Date', ylabel='Case Rate')"
      ],
      "execution_count": 35,
      "outputs": [
        {
          "output_type": "display_data",
          "data": {
            "image/png": "[encoded data removed]",
            "text/plain": [
              "<Figure size 720x432 with 1 Axes>"
            ]
          },
          "metadata": {
            "tags": []
          }
        }
      ]
    },
    {
      "cell_type": "code",
      "metadata": {
        "id": "97hNyXK5h0dQ",
        "colab_type": "code",
        "colab": {
          "base_uri": "https://localhost:8080/",
          "height": 873
        },
        "outputId": "b4b0f649-a31b-4b82-a338-bab1b52e706b"
      },
      "source": [
        "figure3 = m.plot_components(forecast)"
      ],
      "execution_count": 36,
      "outputs": [
        {
          "output_type": "display_data",
          "data": {
            "image/png": "[encoded data removed]",
            "text/plain": [
              "<Figure size 648x864 with 4 Axes>"
            ]
          },
          "metadata": {
            "tags": []
          }
        }
      ]
    }
  ]
}